{
 "cells": [
  {
   "cell_type": "code",
   "execution_count": 1,
   "metadata": {},
   "outputs": [],
   "source": [
    "import numpy as np\n",
    "import pandas as pd\n",
    "import torch\n",
    "from torch.utils.data import Dataset, DataLoader\n",
    "import torch.nn as nn\n",
    "import torch.optim as optim\n",
    "\n",
    "from torch.utils.tensorboard import SummaryWriter\n",
    "import matplotlib.pyplot as plt\n",
    "# 读取基因表达数据\n",
    "gene_expression_data = pd.read_csv('../data/scRNA_seq_for_hw3_hw5.tsv', delimiter='\\t', index_col=0)\n",
    "\n",
    "# 读取标签数据\n",
    "labels = pd.read_csv('../data/label_for_hw3_hw5.tsv',delimiter='\\t', index_col=0)"
   ]
  },
  {
   "cell_type": "code",
   "execution_count": 4,
   "metadata": {},
   "outputs": [],
   "source": [
    "gene_expression_data= gene_expression_data.T"
   ]
  },
  {
   "cell_type": "code",
   "execution_count": 3,
   "metadata": {},
   "outputs": [
    {
     "data": {
      "text/plain": [
       "(10412, 1)"
      ]
     },
     "execution_count": 3,
     "metadata": {},
     "output_type": "execute_result"
    }
   ],
   "source": [
    "labels.shape"
   ]
  },
  {
   "cell_type": "code",
   "execution_count": 6,
   "metadata": {},
   "outputs": [
    {
     "name": "stdout",
     "output_type": "stream",
     "text": [
      "False\n"
     ]
    }
   ],
   "source": [
    "gene_data = np.array(gene_expression_data.values, dtype=np.float32)\n",
    "print(np.isnan(gene_data).any())"
   ]
  },
  {
   "cell_type": "code",
   "execution_count": 7,
   "metadata": {},
   "outputs": [],
   "source": [
    "class MyDataset(Dataset):\n",
    "    def __init__(self, gene_expression_data):\n",
    "        self.genes = torch.tensor(gene_expression_data, dtype=torch.float32) \n",
    "\n",
    "    def __len__(self):\n",
    "        return len(self.genes)\n",
    "\n",
    "    def __getitem__(self, idx):\n",
    "        return self.genes[idx]"
   ]
  },
  {
   "cell_type": "code",
   "execution_count": 26,
   "metadata": {},
   "outputs": [],
   "source": [
    "class MyVAE(nn.Module):\n",
    "    def __init__(self, input_dim, latent_dim):\n",
    "        super(MyVAE, self).__init__()\n",
    "        self.input_dim = input_dim\n",
    "        self.latent_dim = latent_dim\n",
    "\n",
    "        self.encoder = nn.Sequential(\n",
    "            nn.Linear(input_dim, 512),\n",
    "            nn.ReLU(),\n",
    "            nn.Linear(512, 256),\n",
    "            nn.ReLU(),\n",
    "            nn.Linear(256, latent_dim*2)\n",
    "        )\n",
    "\n",
    "        self.decoder = nn.Sequential(\n",
    "            nn.Linear(latent_dim, 256),\n",
    "            nn.ReLU(),\n",
    "            nn.Linear(256, 512),\n",
    "            nn.ReLU(),\n",
    "            nn.Linear(512, input_dim) # concatenate rna and atac\n",
    "        )\n",
    "    \n",
    "    # reparameterization trick for vae sampling\n",
    "    def reparameterize(self, mu, logvar):\n",
    "        std = torch.exp(0.5 * logvar)\n",
    "        eps = torch.randn_like(std)\n",
    "        return mu + eps * std   \n",
    "\n",
    "    def forward(self, x):\n",
    "        # Encode scRNA-seq data\n",
    "        h = self.encoder(x)\n",
    "        mu, logvar = torch.chunk(h, 2, dim=-1)\n",
    "        z = self.reparameterize(mu, logvar)\n",
    "\n",
    "        # Concatenate latent variables\n",
    "        x_hat = self.decoder(z)\n",
    "\n",
    "        return x_hat, mu, logvar, h, z    "
   ]
  },
  {
   "cell_type": "code",
   "execution_count": 18,
   "metadata": {},
   "outputs": [
    {
     "data": {
      "text/plain": [
       "pandas.core.frame.DataFrame"
      ]
     },
     "execution_count": 18,
     "metadata": {},
     "output_type": "execute_result"
    }
   ],
   "source": [
    "type(gene_expression_data)"
   ]
  },
  {
   "cell_type": "code",
   "execution_count": 24,
   "metadata": {},
   "outputs": [
    {
     "name": "stdout",
     "output_type": "stream",
     "text": [
      "3000\n"
     ]
    }
   ],
   "source": [
    "input_dim = gene_expression_data.shape[-1]\n",
    "print(input_dim)\n",
    "latent_dim = 256\n",
    "\n",
    "model = MyVAE(input_dim, latent_dim)\n",
    "optimizer = optim.Adam(model.parameters(), lr=1e-3)\n",
    "criterion = nn.MSELoss()\n",
    "dataset = MyDataset(gene_data)\n",
    "dataloader = DataLoader(dataset, batch_size=32, shuffle=True)"
   ]
  },
  {
   "cell_type": "code",
   "execution_count": 38,
   "metadata": {},
   "outputs": [],
   "source": [
    "num_epochs = 150"
   ]
  },
  {
   "cell_type": "code",
   "execution_count": 39,
   "metadata": {},
   "outputs": [],
   "source": [
    "from torch.utils.tensorboard import SummaryWriter\n",
    "writer = SummaryWriter()\n",
    "avg_losses = []\n",
    "for epoch in range(num_epochs):\n",
    "    total_loss = 0.0\n",
    "    for batch_idx, x in enumerate(dataloader):\n",
    "        \n",
    "        optimizer.zero_grad()\n",
    "        x_hat, mu, logvar, h, z  = model(x)\n",
    "\n",
    "        # flatten input and output\n",
    "        x_flat = x.view(-1, input_dim)\n",
    "        \n",
    "        x_hat_flat = x_hat.view(-1, input_dim)\n",
    "\n",
    "        loss = criterion(x_hat_flat, x_flat)\n",
    "        # print(loss)\n",
    "        loss.backward()\n",
    "        optimizer.step()\n",
    "\n",
    "        total_loss += loss.item()\n",
    "        \n",
    "    # Print or log the average loss for the epoch\n",
    "    avg_loss = total_loss / len(dataloader)\n",
    "    avg_losses.append(avg_loss)\n",
    "    print(f'Epoch [{epoch+1}/{num_epochs}], Average Loss: {avg_loss}')\n",
    "\n",
    "    # Log the loss to TensorBoard\n",
    "    writer.add_scalar('Loss/Train', avg_loss, epoch)\n",
    "\n",
    "    # Save the model after each epoch\n",
    "    if (epoch+1)%50==0: \n",
    "        model_save_path = f'model_epoch_{epoch+1}.pt'\n",
    "        torch.save(model.state_dict(), model_save_path)\n",
    "writer.close()\n",
    "\n",
    "plt.figure(figsize=(10, 5))\n",
    "plt.plot(avg_losses)\n",
    "plt.title('Loss over time')\n",
    "plt.xlabel('Epoch')\n",
    "plt.ylabel('Loss')\n",
    "plt.savefig('loss.png')\n",
    "plt.show()"
   ]
  },
  {
   "cell_type": "markdown",
   "metadata": {},
   "source": [
    "# Umap可视化"
   ]
  },
  {
   "cell_type": "code",
   "execution_count": null,
   "metadata": {},
   "outputs": [
    {
     "name": "stderr",
     "output_type": "stream",
     "text": [
      "/home/codespace/.python/current/lib/python3.10/site-packages/tqdm/auto.py:21: TqdmWarning: IProgress not found. Please update jupyter and ipywidgets. See https://ipywidgets.readthedocs.io/en/stable/user_install.html\n",
      "  from .autonotebook import tqdm as notebook_tqdm\n"
     ]
    }
   ],
   "source": [
    "import umap\n",
    "import numpy as np\n",
    "import scanpy as sc\n",
    "from sklearn.decomposition import PCA\n",
    "import matplotlib.pyplot as plt\n",
    "from sklearn.manifold import TSNE\n",
    "from MulticoreTSNE import MulticoreTSNE as mTSNE\n",
    "import umap\n",
    "import seaborn as sns"
   ]
  },
  {
   "cell_type": "code",
   "execution_count": null,
   "metadata": {},
   "outputs": [
    {
     "name": "stdout",
     "output_type": "stream",
     "text": [
      "(10412, 256)\n"
     ]
    }
   ],
   "source": [
    "x_hat, mu, logvar, h, z  = model(torch.tensor(gene_data, dtype=torch.float32))\n",
    "z = z.detach().numpy()\n",
    "print(z.shape)"
   ]
  },
  {
   "cell_type": "code",
   "execution_count": null,
   "metadata": {},
   "outputs": [],
   "source": [
    "umap_result = umap.UMAP().fit_transform(z)\n",
    "gene_expression_data['UMAP1'] = umap_result[:,0]\n",
    "gene_expression_data['UMAP2'] = umap_result[:,1]"
   ]
  },
  {
   "cell_type": "code",
   "execution_count": null,
   "metadata": {},
   "outputs": [],
   "source": [
    "gene_expression_data['label'] = labels['label'] "
   ]
  },
  {
   "cell_type": "code",
   "execution_count": null,
   "metadata": {},
   "outputs": [],
   "source": [
    "plt.figure(figsize=(8, 6))\n",
    "sns.scatterplot(x='UMAP1', y='UMAP2', hue='label', data=gene_expression_data, palette='viridis')\n",
    "plt.title('vis for VAE')\n",
    "plt.legend(bbox_to_anchor=(1, 0), loc='lower left', borderaxespad=0., ncol=1)\n",
    "plt.savefig('hw5_vis', bbox_inches='tight')\n",
    "plt.close()"
   ]
  }
 ],
 "metadata": {
  "kernelspec": {
   "display_name": "Python 3",
   "language": "python",
   "name": "python3"
  },
  "language_info": {
   "codemirror_mode": {
    "name": "ipython",
    "version": 3
   },
   "file_extension": ".py",
   "mimetype": "text/x-python",
   "name": "python",
   "nbconvert_exporter": "python",
   "pygments_lexer": "ipython3",
   "version": "3.10.13"
  }
 },
 "nbformat": 4,
 "nbformat_minor": 2
}
