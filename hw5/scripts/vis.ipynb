{
 "cells": [
  {
   "cell_type": "code",
   "execution_count": 1,
   "metadata": {},
   "outputs": [
    {
     "name": "stdout",
     "output_type": "stream",
     "text": [
      "^C\n",
      "Note: you may need to restart the kernel to use updated packages.\n"
     ]
    }
   ],
   "source": [
    "%pip install scvi"
   ]
  },
  {
   "cell_type": "code",
   "execution_count": null,
   "metadata": {},
   "outputs": [],
   "source": [
    "import scanpy as sc\n",
    "import scvi\n",
    "import pandas as pd\n",
    "\n",
    "# 读取基因表达数据\n",
    "gene_expression_data = pd.read_csv('data/scRNA_seq_for_hw3_hw5.tsv', index_col=0)\n",
    "\n",
    "# 读取标签数据\n",
    "labels = pd.read_csv('data/label_for_hw3_hw5.tsv', index_col=0)\n",
    "\n",
    "# 创建AnnData对象\n",
    "adata = sc.AnnData(X=gene_expression_data.T)  \n",
    "adata.obs['labels'] = labels['label']  \n",
    "\n",
    "# 规范化数据\n",
    "sc.pp.normalize_total(adata, target_sum=1e4)\n",
    "\n",
    "# 对数化数据\n",
    "sc.pp.log1p(adata)\n",
    "\n",
    "# 准备数据，使用scvi\n",
    "scvi.external.pp.scvi_prepare(adata, 'labels')\n",
    "\n",
    "# 训练VAE模型\n",
    "vae = scvi.model.SCVI(adata)\n",
    "vae.train()\n",
    "\n",
    "# 获取降维表示\n",
    "adata.obsm[\"X_vae\"] = vae.get_latents()\n",
    "\n",
    "# 使用UMAP进行降维\n",
    "sc.tl.umap(adata, key_added=\"umap_vae\", min_dist=0.3)\n",
    "\n",
    "# 可视化\n",
    "sc.pl.umap(adata, color='labels', palette='viridis', save='umap_vae_plot.png')\n"
   ]
  }
 ],
 "metadata": {
  "kernelspec": {
   "display_name": "Python 3 (ipykernel)",
   "language": "python",
   "name": "python3"
  }
 },
 "nbformat": 4,
 "nbformat_minor": 2
}
