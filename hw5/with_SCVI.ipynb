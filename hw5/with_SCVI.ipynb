{
 "cells": [
  {
   "cell_type": "code",
   "execution_count": 18,
   "metadata": {},
   "outputs": [
    {
     "name": "stdout",
     "output_type": "stream",
     "text": [
      "Collecting scvi-tools\n",
      "  Downloading scvi_tools-1.0.4-py3-none-any.whl.metadata (10 kB)\n",
      "Requirement already satisfied: anndata>=0.7.5 in /usr/local/python/3.10.13/lib/python3.10/site-packages (from scvi-tools) (0.10.4)\n",
      "Collecting chex<=0.1.8 (from scvi-tools)\n",
      "  Downloading chex-0.1.7-py3-none-any.whl (89 kB)\n",
      "\u001b[2K     \u001b[90m━━━━━━━━━━━━━━━━━━━━━━━━━━━━━━━━━━━━━━━━\u001b[0m \u001b[32m89.6/89.6 kB\u001b[0m \u001b[31m2.4 MB/s\u001b[0m eta \u001b[36m0:00:00\u001b[0m\n",
      "\u001b[?25hCollecting docrep>=0.3.2 (from scvi-tools)\n",
      "  Downloading docrep-0.3.2.tar.gz (33 kB)\n",
      "  Installing build dependencies ... \u001b[?25ldone\n",
      "\u001b[?25h  Getting requirements to build wheel ... \u001b[?25ldone\n",
      "\u001b[?25h  Preparing metadata (pyproject.toml) ... \u001b[?25ldone\n",
      "\u001b[?25hCollecting flax (from scvi-tools)\n",
      "  Downloading flax-0.7.5-py3-none-any.whl.metadata (10 kB)\n",
      "Requirement already satisfied: h5py>=2.9.0 in /usr/local/python/3.10.13/lib/python3.10/site-packages (from scvi-tools) (3.10.0)\n",
      "Collecting jax>=0.4.4 (from scvi-tools)\n",
      "  Downloading jax-0.4.23-py3-none-any.whl.metadata (24 kB)\n",
      "Collecting jaxlib>=0.4.3 (from scvi-tools)\n",
      "  Downloading jaxlib-0.4.23-cp310-cp310-manylinux2014_x86_64.whl.metadata (2.1 kB)\n",
      "Collecting lightning<2.1,>=2.0 (from scvi-tools)\n",
      "  Downloading lightning-2.0.9.post0-py3-none-any.whl.metadata (41 kB)\n",
      "\u001b[2K     \u001b[90m━━━━━━━━━━━━━━━━━━━━━━━━━━━━━━━━━━━━━━━━\u001b[0m \u001b[32m41.2/41.2 kB\u001b[0m \u001b[31m1.0 MB/s\u001b[0m eta \u001b[36m0:00:00\u001b[0m\n",
      "\u001b[?25hCollecting ml-collections>=0.1.1 (from scvi-tools)\n",
      "  Downloading ml_collections-0.1.1.tar.gz (77 kB)\n",
      "\u001b[2K     \u001b[90m━━━━━━━━━━━━━━━━━━━━━━━━━━━━━━━━━━━━━━━━\u001b[0m \u001b[32m77.9/77.9 kB\u001b[0m \u001b[31m2.2 MB/s\u001b[0m eta \u001b[36m0:00:00\u001b[0m\n",
      "\u001b[?25h  Installing build dependencies ... \u001b[?25ldone\n",
      "\u001b[?25h  Getting requirements to build wheel ... \u001b[?25ldone\n",
      "\u001b[?25h  Preparing metadata (pyproject.toml) ... \u001b[?25ldone\n",
      "\u001b[?25hCollecting mudata>=0.1.2 (from scvi-tools)\n",
      "  Downloading mudata-0.2.3-py3-none-any.whl.metadata (4.7 kB)\n",
      "Requirement already satisfied: numpy>=1.21.0 in /home/codespace/.local/lib/python3.10/site-packages (from scvi-tools) (1.26.2)\n",
      "Collecting numpyro>=0.12.1 (from scvi-tools)\n",
      "  Downloading numpyro-0.13.2-py3-none-any.whl.metadata (36 kB)\n",
      "Collecting optax (from scvi-tools)\n",
      "  Downloading optax-0.1.7-py3-none-any.whl.metadata (13 kB)\n",
      "Requirement already satisfied: pandas>=1.0 in /home/codespace/.local/lib/python3.10/site-packages (from scvi-tools) (2.1.3)\n",
      "Collecting pyro-ppl>=1.6.0 (from scvi-tools)\n",
      "  Downloading pyro_ppl-1.8.6-py3-none-any.whl.metadata (7.8 kB)\n",
      "Collecting rich>=12.0.0 (from scvi-tools)\n",
      "  Downloading rich-13.7.0-py3-none-any.whl.metadata (18 kB)\n",
      "Requirement already satisfied: scikit-learn>=0.21.2 in /home/codespace/.local/lib/python3.10/site-packages (from scvi-tools) (1.3.2)\n",
      "Requirement already satisfied: scipy in /home/codespace/.local/lib/python3.10/site-packages (from scvi-tools) (1.11.4)\n",
      "Collecting sparse>=0.14.0 (from scvi-tools)\n",
      "  Downloading sparse-0.15.1-py2.py3-none-any.whl.metadata (4.5 kB)\n",
      "Requirement already satisfied: torch>=1.8.0 in /home/codespace/.local/lib/python3.10/site-packages (from scvi-tools) (2.1.1)\n",
      "Collecting torchmetrics>=0.11.0 (from scvi-tools)\n",
      "  Downloading torchmetrics-1.2.1-py3-none-any.whl.metadata (20 kB)\n",
      "Requirement already satisfied: tqdm>=4.56.0 in /usr/local/python/3.10.13/lib/python3.10/site-packages (from scvi-tools) (4.66.1)\n",
      "Collecting xarray>=2023.2.0 (from scvi-tools)\n",
      "  Downloading xarray-2023.12.0-py3-none-any.whl.metadata (11 kB)\n",
      "Requirement already satisfied: array-api-compat in /usr/local/python/3.10.13/lib/python3.10/site-packages (from anndata>=0.7.5->scvi-tools) (1.4)\n",
      "Requirement already satisfied: exceptiongroup in /home/codespace/.local/lib/python3.10/site-packages (from anndata>=0.7.5->scvi-tools) (1.2.0)\n",
      "Requirement already satisfied: natsort in /usr/local/python/3.10.13/lib/python3.10/site-packages (from anndata>=0.7.5->scvi-tools) (8.4.0)\n",
      "Requirement already satisfied: packaging>=20 in /home/codespace/.local/lib/python3.10/site-packages (from anndata>=0.7.5->scvi-tools) (23.2)\n",
      "Collecting absl-py>=0.9.0 (from chex<=0.1.8->scvi-tools)\n",
      "  Downloading absl_py-2.0.0-py3-none-any.whl.metadata (2.3 kB)\n",
      "Collecting dm-tree>=0.1.5 (from chex<=0.1.8->scvi-tools)\n",
      "  Downloading dm_tree-0.1.8-cp310-cp310-manylinux_2_17_x86_64.manylinux2014_x86_64.whl (152 kB)\n",
      "\u001b[2K     \u001b[90m━━━━━━━━━━━━━━━━━━━━━━━━━━━━━━━━━━━━━━━\u001b[0m \u001b[32m152.8/152.8 kB\u001b[0m \u001b[31m4.3 MB/s\u001b[0m eta \u001b[36m0:00:00\u001b[0m\n",
      "\u001b[?25hCollecting toolz>=0.9.0 (from chex<=0.1.8->scvi-tools)\n",
      "  Downloading toolz-0.12.0-py3-none-any.whl (55 kB)\n",
      "\u001b[2K     \u001b[90m━━━━━━━━━━━━━━━━━━━━━━━━━━━━━━━━━━━━━━━━\u001b[0m \u001b[32m55.8/55.8 kB\u001b[0m \u001b[31m1.4 MB/s\u001b[0m eta \u001b[36m0:00:00\u001b[0m\n",
      "\u001b[?25hRequirement already satisfied: typing-extensions>=4.2.0 in /home/codespace/.local/lib/python3.10/site-packages (from chex<=0.1.8->scvi-tools) (4.8.0)\n",
      "Requirement already satisfied: six in /home/codespace/.local/lib/python3.10/site-packages (from docrep>=0.3.2->scvi-tools) (1.16.0)\n",
      "Collecting ml-dtypes>=0.2.0 (from jax>=0.4.4->scvi-tools)\n",
      "  Downloading ml_dtypes-0.3.2-cp310-cp310-manylinux_2_17_x86_64.manylinux2014_x86_64.whl.metadata (20 kB)\n",
      "Collecting opt-einsum (from jax>=0.4.4->scvi-tools)\n",
      "  Downloading opt_einsum-3.3.0-py3-none-any.whl (65 kB)\n",
      "\u001b[2K     \u001b[90m━━━━━━━━━━━━━━━━━━━━━━━━━━━━━━━━━━━━━━━━\u001b[0m \u001b[32m65.5/65.5 kB\u001b[0m \u001b[31m1.6 MB/s\u001b[0m eta \u001b[36m0:00:00\u001b[0mta \u001b[36m0:00:01\u001b[0m\n",
      "\u001b[?25hRequirement already satisfied: Jinja2<5.0 in /home/codespace/.local/lib/python3.10/site-packages (from lightning<2.1,>=2.0->scvi-tools) (3.1.2)\n",
      "Requirement already satisfied: PyYAML<8.0 in /home/codespace/.local/lib/python3.10/site-packages (from lightning<2.1,>=2.0->scvi-tools) (6.0.1)\n",
      "Requirement already satisfied: arrow<3.0,>=1.2.0 in /home/codespace/.local/lib/python3.10/site-packages (from lightning<2.1,>=2.0->scvi-tools) (1.3.0)\n",
      "Collecting backoff<4.0,>=2.2.1 (from lightning<2.1,>=2.0->scvi-tools)\n",
      "  Downloading backoff-2.2.1-py3-none-any.whl (15 kB)\n",
      "Requirement already satisfied: beautifulsoup4<6.0,>=4.8.0 in /home/codespace/.local/lib/python3.10/site-packages (from lightning<2.1,>=2.0->scvi-tools) (4.12.2)\n",
      "Collecting click<10.0 (from lightning<2.1,>=2.0->scvi-tools)\n",
      "  Downloading click-8.1.7-py3-none-any.whl.metadata (3.0 kB)\n",
      "Collecting croniter<1.5.0,>=1.3.0 (from lightning<2.1,>=2.0->scvi-tools)\n",
      "  Downloading croniter-1.4.1-py2.py3-none-any.whl.metadata (24 kB)\n",
      "Collecting dateutils<2.0 (from lightning<2.1,>=2.0->scvi-tools)\n",
      "  Downloading dateutils-0.6.12-py2.py3-none-any.whl (5.7 kB)\n",
      "Collecting deepdiff<8.0,>=5.7.0 (from lightning<2.1,>=2.0->scvi-tools)\n",
      "  Downloading deepdiff-6.7.1-py3-none-any.whl.metadata (6.1 kB)\n",
      "Collecting fastapi<2.0,>=0.92.0 (from lightning<2.1,>=2.0->scvi-tools)\n",
      "  Downloading fastapi-0.108.0-py3-none-any.whl.metadata (24 kB)\n",
      "Requirement already satisfied: fsspec<2025.0,>=2022.5.0 in /home/codespace/.local/lib/python3.10/site-packages (from lightning<2.1,>=2.0->scvi-tools) (2023.12.1)\n",
      "Collecting inquirer<5.0,>=2.10.0 (from lightning<2.1,>=2.0->scvi-tools)\n",
      "  Downloading inquirer-3.2.1-py3-none-any.whl.metadata (6.8 kB)\n",
      "Collecting lightning-cloud>=0.5.38 (from lightning<2.1,>=2.0->scvi-tools)\n",
      "  Downloading lightning_cloud-0.5.57-py3-none-any.whl.metadata (933 bytes)\n",
      "Collecting lightning-utilities<2.0,>=0.7.0 (from lightning<2.1,>=2.0->scvi-tools)\n",
      "  Downloading lightning_utilities-0.10.0-py3-none-any.whl.metadata (4.8 kB)\n",
      "Requirement already satisfied: psutil<7.0 in /home/codespace/.local/lib/python3.10/site-packages (from lightning<2.1,>=2.0->scvi-tools) (5.9.6)\n",
      "Collecting pydantic<2.2.0,>=1.7.4 (from lightning<2.1,>=2.0->scvi-tools)\n",
      "  Downloading pydantic-2.1.1-py3-none-any.whl.metadata (136 kB)\n",
      "\u001b[2K     \u001b[90m━━━━━━━━━━━━━━━━━━━━━━━━━━━━━━━━━━━━━━━\u001b[0m \u001b[32m136.5/136.5 kB\u001b[0m \u001b[31m3.9 MB/s\u001b[0m eta \u001b[36m0:00:00\u001b[0m\n",
      "\u001b[?25hCollecting python-multipart<2.0,>=0.0.5 (from lightning<2.1,>=2.0->scvi-tools)\n",
      "  Downloading python_multipart-0.0.6-py3-none-any.whl (45 kB)\n",
      "\u001b[2K     \u001b[90m━━━━━━━━━━━━━━━━━━━━━━━━━━━━━━━━━━━━━━━━\u001b[0m \u001b[32m45.7/45.7 kB\u001b[0m \u001b[31m1.2 MB/s\u001b[0m eta \u001b[36m0:00:00\u001b[0m\n",
      "\u001b[?25hRequirement already satisfied: requests<4.0 in /home/codespace/.local/lib/python3.10/site-packages (from lightning<2.1,>=2.0->scvi-tools) (2.31.0)\n",
      "Collecting starlette (from lightning<2.1,>=2.0->scvi-tools)\n",
      "  Downloading starlette-0.34.0-py3-none-any.whl.metadata (5.8 kB)\n",
      "Collecting starsessions<2.0,>=1.2.1 (from lightning<2.1,>=2.0->scvi-tools)\n",
      "  Downloading starsessions-1.3.0-py3-none-any.whl (10 kB)\n",
      "Requirement already satisfied: traitlets<7.0,>=5.3.0 in /home/codespace/.local/lib/python3.10/site-packages (from lightning<2.1,>=2.0->scvi-tools) (5.14.0)\n",
      "Requirement already satisfied: urllib3<4.0 in /usr/local/python/3.10.13/lib/python3.10/site-packages (from lightning<2.1,>=2.0->scvi-tools) (2.0.7)\n",
      "Collecting uvicorn<2.0 (from lightning<2.1,>=2.0->scvi-tools)\n",
      "  Downloading uvicorn-0.25.0-py3-none-any.whl.metadata (6.4 kB)\n",
      "Requirement already satisfied: websocket-client<3.0 in /home/codespace/.local/lib/python3.10/site-packages (from lightning<2.1,>=2.0->scvi-tools) (1.7.0)\n",
      "Collecting websockets<13.0 (from lightning<2.1,>=2.0->scvi-tools)\n",
      "  Downloading websockets-12.0-cp310-cp310-manylinux_2_5_x86_64.manylinux1_x86_64.manylinux_2_17_x86_64.manylinux2014_x86_64.whl.metadata (6.6 kB)\n",
      "Collecting pytorch-lightning (from lightning<2.1,>=2.0->scvi-tools)\n",
      "  Downloading pytorch_lightning-2.1.3-py3-none-any.whl.metadata (21 kB)\n",
      "Collecting contextlib2 (from ml-collections>=0.1.1->scvi-tools)\n",
      "  Downloading contextlib2-21.6.0-py2.py3-none-any.whl (13 kB)\n",
      "Collecting multipledispatch (from numpyro>=0.12.1->scvi-tools)\n",
      "  Downloading multipledispatch-1.0.0-py3-none-any.whl.metadata (3.8 kB)\n",
      "Requirement already satisfied: python-dateutil>=2.8.2 in /home/codespace/.local/lib/python3.10/site-packages (from pandas>=1.0->scvi-tools) (2.8.2)\n",
      "Requirement already satisfied: pytz>=2020.1 in /home/codespace/.local/lib/python3.10/site-packages (from pandas>=1.0->scvi-tools) (2023.3.post1)\n",
      "Requirement already satisfied: tzdata>=2022.1 in /home/codespace/.local/lib/python3.10/site-packages (from pandas>=1.0->scvi-tools) (2023.3)\n",
      "Collecting pyro-api>=0.1.1 (from pyro-ppl>=1.6.0->scvi-tools)\n",
      "  Downloading pyro_api-0.1.2-py3-none-any.whl (11 kB)\n",
      "Collecting markdown-it-py>=2.2.0 (from rich>=12.0.0->scvi-tools)\n",
      "  Downloading markdown_it_py-3.0.0-py3-none-any.whl.metadata (6.9 kB)\n",
      "Requirement already satisfied: pygments<3.0.0,>=2.13.0 in /home/codespace/.local/lib/python3.10/site-packages (from rich>=12.0.0->scvi-tools) (2.17.2)\n",
      "Requirement already satisfied: joblib>=1.1.1 in /home/codespace/.local/lib/python3.10/site-packages (from scikit-learn>=0.21.2->scvi-tools) (1.3.2)\n",
      "Requirement already satisfied: threadpoolctl>=2.0.0 in /home/codespace/.local/lib/python3.10/site-packages (from scikit-learn>=0.21.2->scvi-tools) (3.2.0)\n",
      "Requirement already satisfied: numba>=0.49 in /usr/local/python/3.10.13/lib/python3.10/site-packages (from sparse>=0.14.0->scvi-tools) (0.58.1)\n",
      "Requirement already satisfied: filelock in /home/codespace/.local/lib/python3.10/site-packages (from torch>=1.8.0->scvi-tools) (3.13.1)\n",
      "Requirement already satisfied: sympy in /home/codespace/.local/lib/python3.10/site-packages (from torch>=1.8.0->scvi-tools) (1.12)\n",
      "Requirement already satisfied: networkx in /home/codespace/.local/lib/python3.10/site-packages (from torch>=1.8.0->scvi-tools) (3.2.1)\n",
      "Requirement already satisfied: nvidia-cuda-nvrtc-cu12==12.1.105 in /home/codespace/.local/lib/python3.10/site-packages (from torch>=1.8.0->scvi-tools) (12.1.105)\n",
      "Requirement already satisfied: nvidia-cuda-runtime-cu12==12.1.105 in /home/codespace/.local/lib/python3.10/site-packages (from torch>=1.8.0->scvi-tools) (12.1.105)\n",
      "Requirement already satisfied: nvidia-cuda-cupti-cu12==12.1.105 in /home/codespace/.local/lib/python3.10/site-packages (from torch>=1.8.0->scvi-tools) (12.1.105)\n",
      "Requirement already satisfied: nvidia-cudnn-cu12==8.9.2.26 in /home/codespace/.local/lib/python3.10/site-packages (from torch>=1.8.0->scvi-tools) (8.9.2.26)\n",
      "Requirement already satisfied: nvidia-cublas-cu12==12.1.3.1 in /home/codespace/.local/lib/python3.10/site-packages (from torch>=1.8.0->scvi-tools) (12.1.3.1)\n",
      "Requirement already satisfied: nvidia-cufft-cu12==11.0.2.54 in /home/codespace/.local/lib/python3.10/site-packages (from torch>=1.8.0->scvi-tools) (11.0.2.54)\n",
      "Requirement already satisfied: nvidia-curand-cu12==10.3.2.106 in /home/codespace/.local/lib/python3.10/site-packages (from torch>=1.8.0->scvi-tools) (10.3.2.106)\n",
      "Requirement already satisfied: nvidia-cusolver-cu12==11.4.5.107 in /home/codespace/.local/lib/python3.10/site-packages (from torch>=1.8.0->scvi-tools) (11.4.5.107)\n",
      "Requirement already satisfied: nvidia-cusparse-cu12==12.1.0.106 in /home/codespace/.local/lib/python3.10/site-packages (from torch>=1.8.0->scvi-tools) (12.1.0.106)\n",
      "Requirement already satisfied: nvidia-nccl-cu12==2.18.1 in /home/codespace/.local/lib/python3.10/site-packages (from torch>=1.8.0->scvi-tools) (2.18.1)\n",
      "Requirement already satisfied: nvidia-nvtx-cu12==12.1.105 in /home/codespace/.local/lib/python3.10/site-packages (from torch>=1.8.0->scvi-tools) (12.1.105)\n",
      "Requirement already satisfied: triton==2.1.0 in /home/codespace/.local/lib/python3.10/site-packages (from torch>=1.8.0->scvi-tools) (2.1.0)\n",
      "Requirement already satisfied: nvidia-nvjitlink-cu12 in /home/codespace/.local/lib/python3.10/site-packages (from nvidia-cusolver-cu12==11.4.5.107->torch>=1.8.0->scvi-tools) (12.3.101)\n",
      "Collecting msgpack (from flax->scvi-tools)\n",
      "  Downloading msgpack-1.0.7-cp310-cp310-manylinux_2_17_x86_64.manylinux2014_x86_64.whl.metadata (9.1 kB)\n",
      "Collecting orbax-checkpoint (from flax->scvi-tools)\n",
      "  Downloading orbax_checkpoint-0.4.8-py3-none-any.whl.metadata (1.7 kB)\n",
      "Collecting tensorstore (from flax->scvi-tools)\n",
      "  Downloading tensorstore-0.1.52-cp310-cp310-manylinux_2_17_x86_64.manylinux2014_x86_64.whl.metadata (3.0 kB)\n",
      "Requirement already satisfied: types-python-dateutil>=2.8.10 in /home/codespace/.local/lib/python3.10/site-packages (from arrow<3.0,>=1.2.0->lightning<2.1,>=2.0->scvi-tools) (2.8.19.14)\n",
      "Requirement already satisfied: soupsieve>1.2 in /home/codespace/.local/lib/python3.10/site-packages (from beautifulsoup4<6.0,>=4.8.0->lightning<2.1,>=2.0->scvi-tools) (2.5)\n",
      "Collecting ordered-set<4.2.0,>=4.0.2 (from deepdiff<8.0,>=5.7.0->lightning<2.1,>=2.0->scvi-tools)\n",
      "  Downloading ordered_set-4.1.0-py3-none-any.whl (7.6 kB)\n",
      "Collecting starlette (from lightning<2.1,>=2.0->scvi-tools)\n",
      "  Downloading starlette-0.32.0.post1-py3-none-any.whl.metadata (5.8 kB)\n",
      "Collecting aiohttp!=4.0.0a0,!=4.0.0a1 (from fsspec[http]<2025.0,>2021.06.0->lightning<2.1,>=2.0->scvi-tools)\n",
      "  Downloading aiohttp-3.9.1-cp310-cp310-manylinux_2_17_x86_64.manylinux2014_x86_64.whl.metadata (7.4 kB)\n",
      "Collecting blessed>=1.19.0 (from inquirer<5.0,>=2.10.0->lightning<2.1,>=2.0->scvi-tools)\n",
      "  Downloading blessed-1.20.0-py2.py3-none-any.whl (58 kB)\n",
      "\u001b[2K     \u001b[90m━━━━━━━━━━━━━━━━━━━━━━━━━━━━━━━━━━━━━━━━\u001b[0m \u001b[32m58.4/58.4 kB\u001b[0m \u001b[31m1.6 MB/s\u001b[0m eta \u001b[36m0:00:00\u001b[0m\n",
      "\u001b[?25hCollecting editor>=1.6.0 (from inquirer<5.0,>=2.10.0->lightning<2.1,>=2.0->scvi-tools)\n",
      "  Downloading editor-1.6.5-py3-none-any.whl.metadata (2.3 kB)\n",
      "Collecting readchar>=3.0.6 (from inquirer<5.0,>=2.10.0->lightning<2.1,>=2.0->scvi-tools)\n",
      "  Downloading readchar-4.0.5-py3-none-any.whl (8.5 kB)\n",
      "Requirement already satisfied: MarkupSafe>=2.0 in /home/codespace/.local/lib/python3.10/site-packages (from Jinja2<5.0->lightning<2.1,>=2.0->scvi-tools) (2.1.3)\n",
      "Collecting pyjwt (from lightning-cloud>=0.5.38->lightning<2.1,>=2.0->scvi-tools)\n",
      "  Downloading PyJWT-2.8.0-py3-none-any.whl.metadata (4.2 kB)\n",
      "Collecting boto3 (from lightning-cloud>=0.5.38->lightning<2.1,>=2.0->scvi-tools)\n",
      "  Downloading boto3-1.34.16-py3-none-any.whl.metadata (6.6 kB)\n",
      "Requirement already satisfied: setuptools in /usr/local/python/3.10.13/lib/python3.10/site-packages (from lightning-utilities<2.0,>=0.7.0->lightning<2.1,>=2.0->scvi-tools) (68.2.2)\n",
      "Collecting mdurl~=0.1 (from markdown-it-py>=2.2.0->rich>=12.0.0->scvi-tools)\n",
      "  Downloading mdurl-0.1.2-py3-none-any.whl (10.0 kB)\n",
      "Requirement already satisfied: llvmlite<0.42,>=0.41.0dev0 in /usr/local/python/3.10.13/lib/python3.10/site-packages (from numba>=0.49->sparse>=0.14.0->scvi-tools) (0.41.1)\n",
      "Collecting annotated-types>=0.4.0 (from pydantic<2.2.0,>=1.7.4->lightning<2.1,>=2.0->scvi-tools)\n",
      "  Downloading annotated_types-0.6.0-py3-none-any.whl.metadata (12 kB)\n",
      "Collecting pydantic-core==2.4.0 (from pydantic<2.2.0,>=1.7.4->lightning<2.1,>=2.0->scvi-tools)\n",
      "  Downloading pydantic_core-2.4.0-cp310-cp310-manylinux_2_17_x86_64.manylinux2014_x86_64.whl.metadata (6.5 kB)\n",
      "Requirement already satisfied: charset-normalizer<4,>=2 in /home/codespace/.local/lib/python3.10/site-packages (from requests<4.0->lightning<2.1,>=2.0->scvi-tools) (3.3.2)\n",
      "Requirement already satisfied: idna<4,>=2.5 in /home/codespace/.local/lib/python3.10/site-packages (from requests<4.0->lightning<2.1,>=2.0->scvi-tools) (3.6)\n",
      "Requirement already satisfied: certifi>=2017.4.17 in /home/codespace/.local/lib/python3.10/site-packages (from requests<4.0->lightning<2.1,>=2.0->scvi-tools) (2023.11.17)\n",
      "Requirement already satisfied: anyio<5,>=3.4.0 in /home/codespace/.local/lib/python3.10/site-packages (from starlette->lightning<2.1,>=2.0->scvi-tools) (4.1.0)\n",
      "Collecting itsdangerous<3.0.0,>=2.0.1 (from starsessions<2.0,>=1.2.1->lightning<2.1,>=2.0->scvi-tools)\n",
      "  Downloading itsdangerous-2.1.2-py3-none-any.whl (15 kB)\n",
      "Collecting h11>=0.8 (from uvicorn<2.0->lightning<2.1,>=2.0->scvi-tools)\n",
      "  Downloading h11-0.14.0-py3-none-any.whl (58 kB)\n",
      "\u001b[2K     \u001b[90m━━━━━━━━━━━━━━━━━━━━━━━━━━━━━━━━━━━━━━━━\u001b[0m \u001b[32m58.3/58.3 kB\u001b[0m \u001b[31m1.6 MB/s\u001b[0m eta \u001b[36m0:00:00\u001b[0m\n",
      "\u001b[?25hCollecting etils[epath,epy] (from orbax-checkpoint->flax->scvi-tools)\n",
      "  Downloading etils-1.6.0-py3-none-any.whl.metadata (6.4 kB)\n",
      "Requirement already satisfied: nest_asyncio in /home/codespace/.local/lib/python3.10/site-packages (from orbax-checkpoint->flax->scvi-tools) (1.5.8)\n",
      "Collecting protobuf (from orbax-checkpoint->flax->scvi-tools)\n",
      "  Downloading protobuf-4.25.2-cp37-abi3-manylinux2014_x86_64.whl.metadata (541 bytes)\n",
      "Requirement already satisfied: mpmath>=0.19 in /home/codespace/.local/lib/python3.10/site-packages (from sympy->torch>=1.8.0->scvi-tools) (1.3.0)\n",
      "Requirement already satisfied: attrs>=17.3.0 in /home/codespace/.local/lib/python3.10/site-packages (from aiohttp!=4.0.0a0,!=4.0.0a1->fsspec[http]<2025.0,>2021.06.0->lightning<2.1,>=2.0->scvi-tools) (23.1.0)\n",
      "Collecting multidict<7.0,>=4.5 (from aiohttp!=4.0.0a0,!=4.0.0a1->fsspec[http]<2025.0,>2021.06.0->lightning<2.1,>=2.0->scvi-tools)\n",
      "  Downloading multidict-6.0.4-cp310-cp310-manylinux_2_17_x86_64.manylinux2014_x86_64.whl (114 kB)\n",
      "\u001b[2K     \u001b[90m━━━━━━━━━━━━━━━━━━━━━━━━━━━━━━━━━━━━━━━\u001b[0m \u001b[32m114.5/114.5 kB\u001b[0m \u001b[31m2.8 MB/s\u001b[0m eta \u001b[36m0:00:00\u001b[0m00:01\u001b[0m\n",
      "\u001b[?25hCollecting yarl<2.0,>=1.0 (from aiohttp!=4.0.0a0,!=4.0.0a1->fsspec[http]<2025.0,>2021.06.0->lightning<2.1,>=2.0->scvi-tools)\n",
      "  Downloading yarl-1.9.4-cp310-cp310-manylinux_2_17_x86_64.manylinux2014_x86_64.whl.metadata (31 kB)\n",
      "Collecting frozenlist>=1.1.1 (from aiohttp!=4.0.0a0,!=4.0.0a1->fsspec[http]<2025.0,>2021.06.0->lightning<2.1,>=2.0->scvi-tools)\n",
      "  Downloading frozenlist-1.4.1-cp310-cp310-manylinux_2_5_x86_64.manylinux1_x86_64.manylinux_2_17_x86_64.manylinux2014_x86_64.whl.metadata (12 kB)\n",
      "Collecting aiosignal>=1.1.2 (from aiohttp!=4.0.0a0,!=4.0.0a1->fsspec[http]<2025.0,>2021.06.0->lightning<2.1,>=2.0->scvi-tools)\n",
      "  Downloading aiosignal-1.3.1-py3-none-any.whl (7.6 kB)\n",
      "Collecting async-timeout<5.0,>=4.0 (from aiohttp!=4.0.0a0,!=4.0.0a1->fsspec[http]<2025.0,>2021.06.0->lightning<2.1,>=2.0->scvi-tools)\n",
      "  Downloading async_timeout-4.0.3-py3-none-any.whl.metadata (4.2 kB)\n",
      "Requirement already satisfied: sniffio>=1.1 in /home/codespace/.local/lib/python3.10/site-packages (from anyio<5,>=3.4.0->starlette->lightning<2.1,>=2.0->scvi-tools) (1.3.0)\n",
      "Requirement already satisfied: wcwidth>=0.1.4 in /home/codespace/.local/lib/python3.10/site-packages (from blessed>=1.19.0->inquirer<5.0,>=2.10.0->lightning<2.1,>=2.0->scvi-tools) (0.2.12)\n",
      "Collecting runs (from editor>=1.6.0->inquirer<5.0,>=2.10.0->lightning<2.1,>=2.0->scvi-tools)\n",
      "  Downloading runs-1.2.0-py3-none-any.whl.metadata (10 kB)\n",
      "Collecting xmod (from editor>=1.6.0->inquirer<5.0,>=2.10.0->lightning<2.1,>=2.0->scvi-tools)\n",
      "  Downloading xmod-1.8.1-py3-none-any.whl.metadata (1.8 kB)\n",
      "Collecting botocore<1.35.0,>=1.34.16 (from boto3->lightning-cloud>=0.5.38->lightning<2.1,>=2.0->scvi-tools)\n",
      "  Downloading botocore-1.34.16-py3-none-any.whl.metadata (5.6 kB)\n",
      "Collecting jmespath<2.0.0,>=0.7.1 (from boto3->lightning-cloud>=0.5.38->lightning<2.1,>=2.0->scvi-tools)\n",
      "  Downloading jmespath-1.0.1-py3-none-any.whl (20 kB)\n",
      "Collecting s3transfer<0.11.0,>=0.10.0 (from boto3->lightning-cloud>=0.5.38->lightning<2.1,>=2.0->scvi-tools)\n",
      "  Downloading s3transfer-0.10.0-py3-none-any.whl.metadata (1.7 kB)\n",
      "Collecting importlib_resources (from etils[epath,epy]->orbax-checkpoint->flax->scvi-tools)\n",
      "  Downloading importlib_resources-6.1.1-py3-none-any.whl.metadata (4.1 kB)\n",
      "Collecting zipp (from etils[epath,epy]->orbax-checkpoint->flax->scvi-tools)\n",
      "  Downloading zipp-3.17.0-py3-none-any.whl.metadata (3.7 kB)\n",
      "Downloading scvi_tools-1.0.4-py3-none-any.whl (351 kB)\n",
      "\u001b[2K   \u001b[90m━━━━━━━━━━━━━━━━━━━━━━━━━━━━━━━━━━━━━━━━\u001b[0m \u001b[32m351.5/351.5 kB\u001b[0m \u001b[31m9.0 MB/s\u001b[0m eta \u001b[36m0:00:00\u001b[0m:00:01\u001b[0m\n",
      "\u001b[?25hDownloading jax-0.4.23-py3-none-any.whl (1.7 MB)\n",
      "\u001b[2K   \u001b[90m━━━━━━━━━━━━━━━━━━━━━━━━━━━━━━━━━━━━━━━━\u001b[0m \u001b[32m1.7/1.7 MB\u001b[0m \u001b[31m32.2 MB/s\u001b[0m eta \u001b[36m0:00:00\u001b[0m:00:01\u001b[0m\n",
      "\u001b[?25hDownloading jaxlib-0.4.23-cp310-cp310-manylinux2014_x86_64.whl (77.2 MB)\n",
      "\u001b[2K   \u001b[90m━━━━━━━━━━━━━━━━━━━━━━━━━━━━━━━━━━━━━━━━\u001b[0m \u001b[32m77.2/77.2 MB\u001b[0m \u001b[31m22.0 MB/s\u001b[0m eta \u001b[36m0:00:00\u001b[0m:00:01\u001b[0m00:01\u001b[0m\n",
      "\u001b[?25hDownloading lightning-2.0.9.post0-py3-none-any.whl (1.9 MB)\n",
      "\u001b[2K   \u001b[90m━━━━━━━━━━━━━━━━━━━━━━━━━━━━━━━━━━━━━━━━\u001b[0m \u001b[32m1.9/1.9 MB\u001b[0m \u001b[31m30.2 MB/s\u001b[0m eta \u001b[36m0:00:00\u001b[0m:00:01\u001b[0m\n",
      "\u001b[?25hDownloading mudata-0.2.3-py3-none-any.whl (24 kB)\n",
      "Downloading numpyro-0.13.2-py3-none-any.whl (312 kB)\n",
      "\u001b[2K   \u001b[90m━━━━━━━━━━━━━━━━━━━━━━━━━━━━━━━━━━━━━━━━\u001b[0m \u001b[32m312.7/312.7 kB\u001b[0m \u001b[31m8.4 MB/s\u001b[0m eta \u001b[36m0:00:00\u001b[0m:00:01\u001b[0m\n",
      "\u001b[?25hDownloading pyro_ppl-1.8.6-py3-none-any.whl (732 kB)\n",
      "\u001b[2K   \u001b[90m━━━━━━━━━━━━━━━━━━━━━━━━━━━━━━━━━━━━━━━━\u001b[0m \u001b[32m732.8/732.8 kB\u001b[0m \u001b[31m15.0 MB/s\u001b[0m eta \u001b[36m0:00:00\u001b[0m00:01\u001b[0m\n",
      "\u001b[?25hDownloading rich-13.7.0-py3-none-any.whl (240 kB)\n",
      "\u001b[2K   \u001b[90m━━━━━━━━━━━━━━━━━━━━━━━━━━━━━━━━━━━━━━━━\u001b[0m \u001b[32m240.6/240.6 kB\u001b[0m \u001b[31m6.4 MB/s\u001b[0m eta \u001b[36m0:00:00\u001b[0m:00:01\u001b[0m\n",
      "\u001b[?25hDownloading sparse-0.15.1-py2.py3-none-any.whl (116 kB)\n",
      "\u001b[2K   \u001b[90m━━━━━━━━━━━━━━━━━━━━━━━━━━━━━━━━━━━━━━━━\u001b[0m \u001b[32m116.3/116.3 kB\u001b[0m \u001b[31m3.0 MB/s\u001b[0m eta \u001b[36m0:00:00\u001b[0mta \u001b[36m0:00:01\u001b[0m\n",
      "\u001b[?25hDownloading torchmetrics-1.2.1-py3-none-any.whl (806 kB)\n",
      "\u001b[2K   \u001b[90m━━━━━━━━━━━━━━━━━━━━━━━━━━━━━━━━━━━━━━━━\u001b[0m \u001b[32m806.1/806.1 kB\u001b[0m \u001b[31m18.0 MB/s\u001b[0m eta \u001b[36m0:00:00\u001b[0m00:01\u001b[0m\n",
      "\u001b[?25hDownloading xarray-2023.12.0-py3-none-any.whl (1.1 MB)\n",
      "\u001b[2K   \u001b[90m━━━━━━━━━━━━━━━━━━━━━━━━━━━━━━━━━━━━━━━━\u001b[0m \u001b[32m1.1/1.1 MB\u001b[0m \u001b[31m22.2 MB/s\u001b[0m eta \u001b[36m0:00:00\u001b[0m:00:01\u001b[0m\n",
      "\u001b[?25hDownloading flax-0.7.5-py3-none-any.whl (244 kB)\n",
      "\u001b[2K   \u001b[90m━━━━━━━━━━━━━━━━━━━━━━━━━━━━━━━━━━━━━━━━\u001b[0m \u001b[32m244.4/244.4 kB\u001b[0m \u001b[31m6.3 MB/s\u001b[0m eta \u001b[36m0:00:00\u001b[0mta \u001b[36m0:00:01\u001b[0m\n",
      "\u001b[?25hDownloading optax-0.1.7-py3-none-any.whl (154 kB)\n",
      "\u001b[2K   \u001b[90m━━━━━━━━━━━━━━━━━━━━━━━━━━━━━━━━━━━━━━━━\u001b[0m \u001b[32m154.1/154.1 kB\u001b[0m \u001b[31m4.0 MB/s\u001b[0m eta \u001b[36m0:00:00\u001b[0m:00:01\u001b[0m\n",
      "\u001b[?25hDownloading absl_py-2.0.0-py3-none-any.whl (130 kB)\n",
      "\u001b[2K   \u001b[90m━━━━━━━━━━━━━━━━━━━━━━━━━━━━━━━━━━━━━━━━\u001b[0m \u001b[32m130.2/130.2 kB\u001b[0m \u001b[31m3.8 MB/s\u001b[0m eta \u001b[36m0:00:00\u001b[0m\n",
      "\u001b[?25hDownloading click-8.1.7-py3-none-any.whl (97 kB)\n",
      "\u001b[2K   \u001b[90m━━━━━━━━━━━━━━━━━━━━━━━━━━━━━━━━━━━━━━━━\u001b[0m \u001b[32m97.9/97.9 kB\u001b[0m \u001b[31m2.5 MB/s\u001b[0m eta \u001b[36m0:00:00\u001b[0meta \u001b[36m0:00:01\u001b[0m\n",
      "\u001b[?25hDownloading croniter-1.4.1-py2.py3-none-any.whl (19 kB)\n",
      "Downloading deepdiff-6.7.1-py3-none-any.whl (76 kB)\n",
      "\u001b[2K   \u001b[90m━━━━━━━━━━━━━━━━━━━━━━━━━━━━━━━━━━━━━━━━\u001b[0m \u001b[32m76.6/76.6 kB\u001b[0m \u001b[31m2.1 MB/s\u001b[0m eta \u001b[36m0:00:00\u001b[0m\n",
      "\u001b[?25hDownloading fastapi-0.108.0-py3-none-any.whl (92 kB)\n",
      "\u001b[2K   \u001b[90m━━━━━━━━━━━━━━━━━━━━━━━━━━━━━━━━━━━━━━━━\u001b[0m \u001b[32m92.0/92.0 kB\u001b[0m \u001b[31m2.5 MB/s\u001b[0m eta \u001b[36m0:00:00\u001b[0m\n",
      "\u001b[?25hDownloading inquirer-3.2.1-py3-none-any.whl (18 kB)\n",
      "Downloading lightning_cloud-0.5.57-py3-none-any.whl (853 kB)\n",
      "\u001b[2K   \u001b[90m━━━━━━━━━━━━━━━━━━━━━━━━━━━━━━━━━━━━━━━━\u001b[0m \u001b[32m853.1/853.1 kB\u001b[0m \u001b[31m17.7 MB/s\u001b[0m eta \u001b[36m0:00:00\u001b[0m00:01\u001b[0m\n",
      "\u001b[?25hDownloading lightning_utilities-0.10.0-py3-none-any.whl (24 kB)\n",
      "Downloading markdown_it_py-3.0.0-py3-none-any.whl (87 kB)\n",
      "\u001b[2K   \u001b[90m━━━━━━━━━━━━━━━━━━━━━━━━━━━━━━━━━━━━━━━━\u001b[0m \u001b[32m87.5/87.5 kB\u001b[0m \u001b[31m2.6 MB/s\u001b[0m eta \u001b[36m0:00:00\u001b[0m\n",
      "\u001b[?25hDownloading ml_dtypes-0.3.2-cp310-cp310-manylinux_2_17_x86_64.manylinux2014_x86_64.whl (2.2 MB)\n",
      "\u001b[2K   \u001b[90m━━━━━━━━━━━━━━━━━━━━━━━━━━━━━━━━━━━━━━━━\u001b[0m \u001b[32m2.2/2.2 MB\u001b[0m \u001b[31m32.3 MB/s\u001b[0m eta \u001b[36m0:00:00\u001b[0m:00:01\u001b[0m\n",
      "\u001b[?25hDownloading pydantic-2.1.1-py3-none-any.whl (370 kB)\n",
      "\u001b[2K   \u001b[90m━━━━━━━━━━━━━━━━━━━━━━━━━━━━━━━━━━━━━━━━\u001b[0m \u001b[32m370.9/370.9 kB\u001b[0m \u001b[31m10.1 MB/s\u001b[0m eta \u001b[36m0:00:00\u001b[0m00:01\u001b[0m\n",
      "\u001b[?25hDownloading pydantic_core-2.4.0-cp310-cp310-manylinux_2_17_x86_64.manylinux2014_x86_64.whl (1.9 MB)\n",
      "\u001b[2K   \u001b[90m━━━━━━━━━━━━━━━━━━━━━━━━━━━━━━━━━━━━━━━━\u001b[0m \u001b[32m1.9/1.9 MB\u001b[0m \u001b[31m32.5 MB/s\u001b[0m eta \u001b[36m0:00:00\u001b[0m:00:01\u001b[0m\n",
      "\u001b[?25hDownloading starlette-0.32.0.post1-py3-none-any.whl (70 kB)\n",
      "\u001b[2K   \u001b[90m━━━━━━━━━━━━━━━━━━━━━━━━━━━━━━━━━━━━━━━━\u001b[0m \u001b[32m70.0/70.0 kB\u001b[0m \u001b[31m1.9 MB/s\u001b[0m eta \u001b[36m0:00:00\u001b[0m\n",
      "\u001b[?25hDownloading uvicorn-0.25.0-py3-none-any.whl (60 kB)\n",
      "\u001b[2K   \u001b[90m━━━━━━━━━━━━━━━━━━━━━━━━━━━━━━━━━━━━━━━━\u001b[0m \u001b[32m60.3/60.3 kB\u001b[0m \u001b[31m1.6 MB/s\u001b[0m eta \u001b[36m0:00:00\u001b[0m\n",
      "\u001b[?25hDownloading websockets-12.0-cp310-cp310-manylinux_2_5_x86_64.manylinux1_x86_64.manylinux_2_17_x86_64.manylinux2014_x86_64.whl (130 kB)\n",
      "\u001b[2K   \u001b[90m━━━━━━━━━━━━━━━━━━━━━━━━━━━━━━━━━━━━━━━━\u001b[0m \u001b[32m130.2/130.2 kB\u001b[0m \u001b[31m3.4 MB/s\u001b[0m eta \u001b[36m0:00:00\u001b[0mta \u001b[36m0:00:01\u001b[0m\n",
      "\u001b[?25hDownloading msgpack-1.0.7-cp310-cp310-manylinux_2_17_x86_64.manylinux2014_x86_64.whl (530 kB)\n",
      "\u001b[2K   \u001b[90m━━━━━━━━━━━━━━━━━━━━━━━━━━━━━━━━━━━━━━━━\u001b[0m \u001b[32m530.8/530.8 kB\u001b[0m \u001b[31m13.7 MB/s\u001b[0m eta \u001b[36m0:00:00\u001b[0m00:01\u001b[0m\n",
      "\u001b[?25hDownloading multipledispatch-1.0.0-py3-none-any.whl (12 kB)\n",
      "Downloading orbax_checkpoint-0.4.8-py3-none-any.whl (131 kB)\n",
      "\u001b[2K   \u001b[90m━━━━━━━━━━━━━━━━━━━━━━━━━━━━━━━━━━━━━━━━\u001b[0m \u001b[32m131.2/131.2 kB\u001b[0m \u001b[31m3.4 MB/s\u001b[0m eta \u001b[36m0:00:00\u001b[0mta \u001b[36m0:00:01\u001b[0m\n",
      "\u001b[?25hDownloading tensorstore-0.1.52-cp310-cp310-manylinux_2_17_x86_64.manylinux2014_x86_64.whl (14.1 MB)\n",
      "\u001b[2K   \u001b[90m━━━━━━━━━━━━━━━━━━━━━━━━━━━━━━━━━━━━━━━━\u001b[0m \u001b[32m14.1/14.1 MB\u001b[0m \u001b[31m41.6 MB/s\u001b[0m eta \u001b[36m0:00:00\u001b[0m00:01\u001b[0m:00:01\u001b[0m\n",
      "\u001b[?25hDownloading pytorch_lightning-2.1.3-py3-none-any.whl (777 kB)\n",
      "\u001b[2K   \u001b[90m━━━━━━━━━━━━━━━━━━━━━━━━━━━━━━━━━━━━━━━━\u001b[0m \u001b[32m777.7/777.7 kB\u001b[0m \u001b[31m17.1 MB/s\u001b[0m eta \u001b[36m0:00:00\u001b[0m00:01\u001b[0m\n",
      "\u001b[?25hDownloading aiohttp-3.9.1-cp310-cp310-manylinux_2_17_x86_64.manylinux2014_x86_64.whl (1.2 MB)\n",
      "\u001b[2K   \u001b[90m━━━━━━━━━━━━━━━━━━━━━━━━━━━━━━━━━━━━━━━━\u001b[0m \u001b[32m1.2/1.2 MB\u001b[0m \u001b[31m24.6 MB/s\u001b[0m eta \u001b[36m0:00:00\u001b[0m:00:01\u001b[0m\n",
      "\u001b[?25hDownloading annotated_types-0.6.0-py3-none-any.whl (12 kB)\n",
      "Downloading editor-1.6.5-py3-none-any.whl (4.0 kB)\n",
      "Downloading boto3-1.34.16-py3-none-any.whl (139 kB)\n",
      "\u001b[2K   \u001b[90m━━━━━━━━━━━━━━━━━━━━━━━━━━━━━━━━━━━━━━━━\u001b[0m \u001b[32m139.3/139.3 kB\u001b[0m \u001b[31m4.0 MB/s\u001b[0m eta \u001b[36m0:00:00\u001b[0m\n",
      "\u001b[?25hDownloading protobuf-4.25.2-cp37-abi3-manylinux2014_x86_64.whl (294 kB)\n",
      "\u001b[2K   \u001b[90m━━━━━━━━━━━━━━━━━━━━━━━━━━━━━━━━━━━━━━━━\u001b[0m \u001b[32m294.6/294.6 kB\u001b[0m \u001b[31m8.0 MB/s\u001b[0m eta \u001b[36m0:00:00\u001b[0mta \u001b[36m0:00:01\u001b[0m\n",
      "\u001b[?25hDownloading PyJWT-2.8.0-py3-none-any.whl (22 kB)\n",
      "Downloading async_timeout-4.0.3-py3-none-any.whl (5.7 kB)\n",
      "Downloading botocore-1.34.16-py3-none-any.whl (11.9 MB)\n",
      "\u001b[2K   \u001b[90m━━━━━━━━━━━━━━━━━━━━━━━━━━━━━━━━━━━━━━━━\u001b[0m \u001b[32m11.9/11.9 MB\u001b[0m \u001b[31m62.1 MB/s\u001b[0m eta \u001b[36m0:00:00\u001b[0m:00:01\u001b[0m00:01\u001b[0m\n",
      "\u001b[?25hDownloading frozenlist-1.4.1-cp310-cp310-manylinux_2_5_x86_64.manylinux1_x86_64.manylinux_2_17_x86_64.manylinux2014_x86_64.whl (239 kB)\n",
      "\u001b[2K   \u001b[90m━━━━━━━━━━━━━━━━━━━━━━━━━━━━━━━━━━━━━━━━\u001b[0m \u001b[32m239.5/239.5 kB\u001b[0m \u001b[31m6.5 MB/s\u001b[0m eta \u001b[36m0:00:00\u001b[0m:00:01\u001b[0m\n",
      "\u001b[?25hDownloading s3transfer-0.10.0-py3-none-any.whl (82 kB)\n",
      "\u001b[2K   \u001b[90m━━━━━━━━━━━━━━━━━━━━━━━━━━━━━━━━━━━━━━━━\u001b[0m \u001b[32m82.1/82.1 kB\u001b[0m \u001b[31m2.2 MB/s\u001b[0m eta \u001b[36m0:00:00\u001b[0m\n",
      "\u001b[?25hDownloading yarl-1.9.4-cp310-cp310-manylinux_2_17_x86_64.manylinux2014_x86_64.whl (301 kB)\n",
      "\u001b[2K   \u001b[90m━━━━━━━━━━━━━━━━━━━━━━━━━━━━━━━━━━━━━━━━\u001b[0m \u001b[32m301.6/301.6 kB\u001b[0m \u001b[31m8.2 MB/s\u001b[0m eta \u001b[36m0:00:00\u001b[0m:00:01\u001b[0m\n",
      "\u001b[?25hDownloading etils-1.6.0-py3-none-any.whl (144 kB)\n",
      "\u001b[2K   \u001b[90m━━━━━━━━━━━━━━━━━━━━━━━━━━━━━━━━━━━━━━━━\u001b[0m \u001b[32m144.9/144.9 kB\u001b[0m \u001b[31m4.2 MB/s\u001b[0m eta \u001b[36m0:00:00\u001b[0m\n",
      "\u001b[?25hDownloading importlib_resources-6.1.1-py3-none-any.whl (33 kB)\n",
      "Downloading runs-1.2.0-py3-none-any.whl (6.9 kB)\n",
      "Downloading xmod-1.8.1-py3-none-any.whl (4.6 kB)\n",
      "Downloading zipp-3.17.0-py3-none-any.whl (7.4 kB)\n",
      "Building wheels for collected packages: docrep, ml-collections\n",
      "  Building wheel for docrep (pyproject.toml) ... \u001b[?25ldone\n",
      "\u001b[?25h  Created wheel for docrep: filename=docrep-0.3.2-py3-none-any.whl size=19878 sha256=761ea8780634c578e046036053eee6d431249259e8858f314d7af34841baa7dc\n",
      "  Stored in directory: /home/codespace/.cache/pip/wheels/c3/64/48/03c38d8d906159eaa210b3c548fdb590eb3e2a4a5745ae2172\n",
      "  Building wheel for ml-collections (pyproject.toml) ... \u001b[?25ldone\n",
      "\u001b[?25h  Created wheel for ml-collections: filename=ml_collections-0.1.1-py3-none-any.whl size=94507 sha256=a83422cecaa6fdbcf659b3d50a857fd9c4038ea52d7c41c6e15e72d1408048ef\n",
      "  Stored in directory: /home/codespace/.cache/pip/wheels/7b/89/c9/a9b87790789e94aadcfc393c283e3ecd5ab916aed0a31be8fe\n",
      "Successfully built docrep ml-collections\n",
      "Installing collected packages: pyro-api, multipledispatch, dm-tree, zipp, xmod, websockets, toolz, readchar, python-multipart, pyjwt, pydantic-core, protobuf, ordered-set, opt-einsum, multidict, msgpack, ml-dtypes, mdurl, lightning-utilities, jmespath, itsdangerous, importlib_resources, h11, frozenlist, etils, docrep, contextlib2, click, blessed, backoff, async-timeout, annotated-types, absl-py, yarl, uvicorn, tensorstore, starlette, sparse, runs, pydantic, ml-collections, markdown-it-py, jaxlib, jax, deepdiff, dateutils, croniter, botocore, aiosignal, xarray, starsessions, s3transfer, rich, numpyro, fastapi, editor, chex, aiohttp, torchmetrics, pyro-ppl, orbax-checkpoint, optax, mudata, inquirer, boto3, pytorch-lightning, lightning-cloud, flax, lightning, scvi-tools\n",
      "Successfully installed absl-py-2.0.0 aiohttp-3.9.1 aiosignal-1.3.1 annotated-types-0.6.0 async-timeout-4.0.3 backoff-2.2.1 blessed-1.20.0 boto3-1.34.16 botocore-1.34.16 chex-0.1.7 click-8.1.7 contextlib2-21.6.0 croniter-1.4.1 dateutils-0.6.12 deepdiff-6.7.1 dm-tree-0.1.8 docrep-0.3.2 editor-1.6.5 etils-1.6.0 fastapi-0.108.0 flax-0.7.5 frozenlist-1.4.1 h11-0.14.0 importlib_resources-6.1.1 inquirer-3.2.1 itsdangerous-2.1.2 jax-0.4.23 jaxlib-0.4.23 jmespath-1.0.1 lightning-2.0.9.post0 lightning-cloud-0.5.57 lightning-utilities-0.10.0 markdown-it-py-3.0.0 mdurl-0.1.2 ml-collections-0.1.1 ml-dtypes-0.3.2 msgpack-1.0.7 mudata-0.2.3 multidict-6.0.4 multipledispatch-1.0.0 numpyro-0.13.2 opt-einsum-3.3.0 optax-0.1.7 orbax-checkpoint-0.4.8 ordered-set-4.1.0 protobuf-4.25.2 pydantic-2.1.1 pydantic-core-2.4.0 pyjwt-2.8.0 pyro-api-0.1.2 pyro-ppl-1.8.6 python-multipart-0.0.6 pytorch-lightning-2.1.3 readchar-4.0.5 rich-13.7.0 runs-1.2.0 s3transfer-0.10.0 scvi-tools-1.0.4 sparse-0.15.1 starlette-0.32.0.post1 starsessions-1.3.0 tensorstore-0.1.52 toolz-0.12.0 torchmetrics-1.2.1 uvicorn-0.25.0 websockets-12.0 xarray-2023.12.0 xmod-1.8.1 yarl-1.9.4 zipp-3.17.0\n",
      "\n",
      "\u001b[1m[\u001b[0m\u001b[34;49mnotice\u001b[0m\u001b[1;39;49m]\u001b[0m\u001b[39;49m A new release of pip is available: \u001b[0m\u001b[31;49m23.3.1\u001b[0m\u001b[39;49m -> \u001b[0m\u001b[32;49m23.3.2\u001b[0m\n",
      "\u001b[1m[\u001b[0m\u001b[34;49mnotice\u001b[0m\u001b[1;39;49m]\u001b[0m\u001b[39;49m To update, run: \u001b[0m\u001b[32;49mpip install --upgrade pip\u001b[0m\n",
      "Note: you may need to restart the kernel to use updated packages.\n"
     ]
    }
   ],
   "source": [
    "%pip install scvi-tools"
   ]
  },
  {
   "cell_type": "code",
   "execution_count": 1,
   "metadata": {},
   "outputs": [
    {
     "name": "stderr",
     "output_type": "stream",
     "text": [
      "/home/codespace/.python/current/lib/python3.10/site-packages/scvi/_settings.py:63: UserWarning: Since v1.0.0, scvi-tools no longer uses a random seed by default. Run `scvi.settings.seed = 0` to reproduce results from previous versions.\n",
      "  self.seed = seed\n",
      "/home/codespace/.python/current/lib/python3.10/site-packages/scvi/_settings.py:70: UserWarning: Setting `dl_pin_memory_gpu_training` is deprecated in v1.0 and will be removed in v1.1. Please pass in `pin_memory` to the data loaders instead.\n",
      "  self.dl_pin_memory_gpu_training = (\n",
      "/home/codespace/.python/current/lib/python3.10/site-packages/tqdm/auto.py:21: TqdmWarning: IProgress not found. Please update jupyter and ipywidgets. See https://ipywidgets.readthedocs.io/en/stable/user_install.html\n",
      "  from .autonotebook import tqdm as notebook_tqdm\n"
     ]
    }
   ],
   "source": [
    "import scanpy as sc\n",
    "import scvi\n",
    "import pandas as pd"
   ]
  },
  {
   "cell_type": "code",
   "execution_count": 4,
   "metadata": {},
   "outputs": [],
   "source": [
    "# 读取基因表达数据\n",
    "gene_expression_data = pd.read_csv('../data/scRNA_seq_for_hw3_hw5.tsv', delimiter='\\t', index_col=0)\n",
    "\n",
    "# 读取标签数据\n",
    "labels = pd.read_csv('../data/label_for_hw3_hw5.tsv',delimiter='\\t', index_col=0)"
   ]
  },
  {
   "cell_type": "code",
   "execution_count": 5,
   "metadata": {},
   "outputs": [],
   "source": [
    "# 创建AnnData对象\n",
    "adata = sc.AnnData(X=gene_expression_data.T)  \n",
    "adata.obs['labels'] = labels['label']  "
   ]
  },
  {
   "cell_type": "code",
   "execution_count": 11,
   "metadata": {},
   "outputs": [],
   "source": [
    "sc.pp.normalize_total(adata, target_sum=1e4)\n",
    "\n",
    "# 对数化数据\n",
    "sc.pp.log1p(adata)"
   ]
  },
  {
   "cell_type": "code",
   "execution_count": 12,
   "metadata": {},
   "outputs": [
    {
     "name": "stderr",
     "output_type": "stream",
     "text": [
      "/home/codespace/.python/current/lib/python3.10/abc.py:119: FutureWarning: SparseDataset is deprecated and will be removed in late 2024. It has been replaced by the public classes CSRDataset and CSCDataset.\n",
      "\n",
      "For instance checks, use `isinstance(X, (anndata.experimental.CSRDataset, anndata.experimental.CSCDataset))` instead.\n",
      "\n",
      "For creation, use `anndata.experimental.sparse_dataset(X)` instead.\n",
      "\n",
      "  return _abc_instancecheck(cls, instance)\n",
      "/home/codespace/.python/current/lib/python3.10/site-packages/scvi/data/fields/_base_field.py:64: UserWarning: adata.X does not contain unnormalized count data. Are you sure this is what you want?\n",
      "  self.validate_field(adata)\n"
     ]
    }
   ],
   "source": [
    "# 准备数据，使用scvi\n",
    "scvi.model.SCVI.setup_anndata(adata, labels_key='labels')"
   ]
  },
  {
   "cell_type": "code",
   "execution_count": 13,
   "metadata": {},
   "outputs": [],
   "source": [
    "vae = scvi.model.SCVI(adata, n_latent=256, n_layers=2)"
   ]
  },
  {
   "cell_type": "code",
   "execution_count": 15,
   "metadata": {},
   "outputs": [
    {
     "name": "stderr",
     "output_type": "stream",
     "text": [
      "GPU available: False, used: False\n",
      "TPU available: False, using: 0 TPU cores\n",
      "IPU available: False, using: 0 IPUs\n",
      "HPU available: False, using: 0 HPUs\n"
     ]
    },
    {
     "name": "stdout",
     "output_type": "stream",
     "text": [
      "Epoch 1/100:   0%|          | 0/100 [00:00<?, ?it/s]"
     ]
    },
    {
     "name": "stderr",
     "output_type": "stream",
     "text": [
      "/home/codespace/.python/current/lib/python3.10/site-packages/scvi/module/_vae.py:477: UserWarning: The value argument must be within the support of the distribution\n",
      "  reconst_loss = -generative_outputs[\"px\"].log_prob(x).sum(-1)\n"
     ]
    },
    {
     "name": "stderr",
     "output_type": "stream",
     "text": [
      "/home/codespace/.python/current/lib/python3.10/site-packages/scvi/module/_vae.py:477: UserWarning: The value argument must be within the support of the distribution\n",
      "  reconst_loss = -generative_outputs[\"px\"].log_prob(x).sum(-1)\n"
     ]
    },
    {
     "name": "stdout",
     "output_type": "stream",
     "text": [
      "Epoch 2/100:   1%|          | 1/100 [00:03<06:18,  3.83s/it, v_num=1, train_loss_step=1.41e+3, train_loss_epoch=1.37e+3]"
     ]
    },
    {
     "name": "stderr",
     "output_type": "stream",
     "text": [
      "/home/codespace/.python/current/lib/python3.10/site-packages/scvi/module/_vae.py:477: UserWarning: The value argument must be within the support of the distribution\n",
      "  reconst_loss = -generative_outputs[\"px\"].log_prob(x).sum(-1)\n"
     ]
    },
    {
     "name": "stdout",
     "output_type": "stream",
     "text": [
      "Epoch 100/100: 100%|██████████| 100/100 [08:49<00:00,  5.57s/it, v_num=1, train_loss_step=1.09e+3, train_loss_epoch=1.16e+3]"
     ]
    },
    {
     "name": "stderr",
     "output_type": "stream",
     "text": [
      "`Trainer.fit` stopped: `max_epochs=100` reached.\n"
     ]
    },
    {
     "name": "stdout",
     "output_type": "stream",
     "text": [
      "Epoch 100/100: 100%|██████████| 100/100 [08:49<00:00,  5.30s/it, v_num=1, train_loss_step=1.09e+3, train_loss_epoch=1.16e+3]\n"
     ]
    },
    {
     "ename": "ValueError",
     "evalue": "trained_256_vae_model already exists. Please provide another directory for saving.",
     "output_type": "error",
     "traceback": [
      "\u001b[0;31m---------------------------------------------------------------------------\u001b[0m",
      "\u001b[0;31mValueError\u001b[0m                                Traceback (most recent call last)",
      "Cell \u001b[0;32mIn[15], line 2\u001b[0m\n\u001b[1;32m      1\u001b[0m vae\u001b[38;5;241m.\u001b[39mtrain(max_epochs\u001b[38;5;241m=\u001b[39m\u001b[38;5;241m100\u001b[39m)\n\u001b[0;32m----> 2\u001b[0m \u001b[43mvae\u001b[49m\u001b[38;5;241;43m.\u001b[39;49m\u001b[43msave\u001b[49m\u001b[43m(\u001b[49m\u001b[38;5;124;43m'\u001b[39;49m\u001b[38;5;124;43mtrained_256_vae_model\u001b[39;49m\u001b[38;5;124;43m'\u001b[39;49m\u001b[43m)\u001b[49m\n",
      "File \u001b[0;32m~/.python/current/lib/python3.10/site-packages/scvi/model/base/_base_model.py:595\u001b[0m, in \u001b[0;36mBaseModelClass.save\u001b[0;34m(self, dir_path, prefix, overwrite, save_anndata, **anndata_write_kwargs)\u001b[0m\n\u001b[1;32m    593\u001b[0m     os\u001b[38;5;241m.\u001b[39mmakedirs(dir_path, exist_ok\u001b[38;5;241m=\u001b[39moverwrite)\n\u001b[1;32m    594\u001b[0m \u001b[38;5;28;01melse\u001b[39;00m:\n\u001b[0;32m--> 595\u001b[0m     \u001b[38;5;28;01mraise\u001b[39;00m \u001b[38;5;167;01mValueError\u001b[39;00m(\n\u001b[1;32m    596\u001b[0m         \u001b[38;5;124m\"\u001b[39m\u001b[38;5;132;01m{}\u001b[39;00m\u001b[38;5;124m already exists. Please provide another directory for saving.\u001b[39m\u001b[38;5;124m\"\u001b[39m\u001b[38;5;241m.\u001b[39mformat(\n\u001b[1;32m    597\u001b[0m             dir_path\n\u001b[1;32m    598\u001b[0m         )\n\u001b[1;32m    599\u001b[0m     )\n\u001b[1;32m    601\u001b[0m file_name_prefix \u001b[38;5;241m=\u001b[39m prefix \u001b[38;5;129;01mor\u001b[39;00m \u001b[38;5;124m\"\u001b[39m\u001b[38;5;124m\"\u001b[39m\n\u001b[1;32m    602\u001b[0m \u001b[38;5;28;01mif\u001b[39;00m save_anndata:\n",
      "\u001b[0;31mValueError\u001b[0m: trained_256_vae_model already exists. Please provide another directory for saving."
     ]
    }
   ],
   "source": [
    "vae.train(max_epochs=100)"
   ]
  },
  {
   "cell_type": "code",
   "execution_count": 16,
   "metadata": {},
   "outputs": [],
   "source": [
    "vae.save('trained_256_vae_model')"
   ]
  },
  {
   "cell_type": "code",
   "execution_count": 17,
   "metadata": {},
   "outputs": [],
   "source": [
    "latent_space = vae.get_latent_representation()"
   ]
  },
  {
   "cell_type": "code",
   "execution_count": 19,
   "metadata": {},
   "outputs": [
    {
     "name": "stdout",
     "output_type": "stream",
     "text": [
      "WARNING: saving figure to file figures/umapumap_256_vae_plot.png\n"
     ]
    },
    {
     "name": "stderr",
     "output_type": "stream",
     "text": [
      "/home/codespace/.python/current/lib/python3.10/site-packages/scanpy/plotting/_tools/scatterplots.py:1251: FutureWarning: The default value of 'ignore' for the `na_action` parameter in pandas.Categorical.map is deprecated and will be changed to 'None' in a future version. Please set na_action to the desired value to avoid seeing this warning\n",
      "  color_vector = pd.Categorical(values.map(color_map))\n",
      "/home/codespace/.python/current/lib/python3.10/site-packages/scanpy/plotting/_tools/scatterplots.py:394: UserWarning: No data for colormapping provided via 'c'. Parameters 'cmap' will be ignored\n",
      "  cax = scatter(\n"
     ]
    }
   ],
   "source": [
    "# Perform UMAP on the latent space\n",
    "sc.pp.neighbors(adata)\n",
    "sc.tl.umap(adata, init_pos=latent_space, min_dist=0.3)\n",
    "\n",
    "# Visualize\n",
    "sc.pl.umap(adata, color='labels', palette='viridis', save='umap_256_vae_plot.png')"
   ]
  }
 ],
 "metadata": {
  "kernelspec": {
   "display_name": "Python 3 (ipykernel)",
   "language": "python",
   "name": "python3"
  },
  "language_info": {
   "codemirror_mode": {
    "name": "ipython",
    "version": 3
   },
   "file_extension": ".py",
   "mimetype": "text/x-python",
   "name": "python",
   "nbconvert_exporter": "python",
   "pygments_lexer": "ipython3",
   "version": "3.10.13"
  }
 },
 "nbformat": 4,
 "nbformat_minor": 2
}
