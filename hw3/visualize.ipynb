{
 "cells": [
  {
   "cell_type": "code",
   "execution_count": 2,
   "metadata": {},
   "outputs": [
    {
     "name": "stdout",
     "output_type": "stream",
     "text": [
      "Collecting scanpy\n",
      "  Downloading scanpy-1.9.6-py3-none-any.whl.metadata (6.0 kB)\n",
      "Collecting anndata>=0.7.4 (from scanpy)\n",
      "  Downloading anndata-0.10.4-py3-none-any.whl.metadata (6.4 kB)\n",
      "Collecting h5py>=3 (from scanpy)\n",
      "  Downloading h5py-3.10.0-cp310-cp310-manylinux_2_17_x86_64.manylinux2014_x86_64.whl.metadata (2.5 kB)\n",
      "Requirement already satisfied: joblib in /home/codespace/.local/lib/python3.10/site-packages (from scanpy) (1.3.2)\n",
      "Requirement already satisfied: matplotlib>=3.4 in /home/codespace/.local/lib/python3.10/site-packages (from scanpy) (3.8.2)\n",
      "Collecting natsort (from scanpy)\n",
      "  Downloading natsort-8.4.0-py3-none-any.whl.metadata (21 kB)\n",
      "Requirement already satisfied: networkx>=2.3 in /home/codespace/.local/lib/python3.10/site-packages (from scanpy) (3.2.1)\n",
      "Collecting numba>=0.41.0 (from scanpy)\n",
      "  Downloading numba-0.58.1-cp310-cp310-manylinux2014_x86_64.manylinux_2_17_x86_64.whl.metadata (2.7 kB)\n",
      "Requirement already satisfied: numpy>=1.17.0 in /home/codespace/.local/lib/python3.10/site-packages (from scanpy) (1.26.2)\n",
      "Requirement already satisfied: packaging in /home/codespace/.local/lib/python3.10/site-packages (from scanpy) (23.2)\n",
      "Requirement already satisfied: pandas!=2.1.2,>=1.1.1 in /home/codespace/.local/lib/python3.10/site-packages (from scanpy) (2.1.3)\n",
      "Collecting patsy (from scanpy)\n",
      "  Downloading patsy-0.5.6-py2.py3-none-any.whl.metadata (3.5 kB)\n",
      "Requirement already satisfied: scikit-learn>=0.24 in /home/codespace/.local/lib/python3.10/site-packages (from scanpy) (1.3.2)\n",
      "Requirement already satisfied: scipy>=1.4 in /home/codespace/.local/lib/python3.10/site-packages (from scanpy) (1.11.4)\n",
      "Collecting seaborn!=0.13.0 (from scanpy)\n",
      "  Downloading seaborn-0.13.1-py3-none-any.whl.metadata (5.4 kB)\n",
      "Collecting session-info (from scanpy)\n",
      "  Downloading session_info-1.0.0.tar.gz (24 kB)\n",
      "  Installing build dependencies ... \u001b[?25ldone\n",
      "\u001b[?25h  Getting requirements to build wheel ... \u001b[?25ldone\n",
      "\u001b[?25h  Preparing metadata (pyproject.toml) ... \u001b[?25ldone\n",
      "\u001b[?25hCollecting statsmodels>=0.10.0rc2 (from scanpy)\n",
      "  Downloading statsmodels-0.14.1-cp310-cp310-manylinux_2_17_x86_64.manylinux2014_x86_64.whl.metadata (9.5 kB)\n",
      "Collecting tqdm (from scanpy)\n",
      "  Downloading tqdm-4.66.1-py3-none-any.whl.metadata (57 kB)\n",
      "\u001b[2K     \u001b[90m━━━━━━━━━━━━━━━━━━━━━━━━━━━━━━━━━━━━━━━━\u001b[0m \u001b[32m57.6/57.6 kB\u001b[0m \u001b[31m1.5 MB/s\u001b[0m eta \u001b[36m0:00:00\u001b[0m\n",
      "\u001b[?25hCollecting umap-learn>=0.3.10 (from scanpy)\n",
      "  Downloading umap-learn-0.5.5.tar.gz (90 kB)\n",
      "\u001b[2K     \u001b[90m━━━━━━━━━━━━━━━━━━━━━━━━━━━━━━━━━━━━━━━━\u001b[0m \u001b[32m90.9/90.9 kB\u001b[0m \u001b[31m2.5 MB/s\u001b[0m eta \u001b[36m0:00:00\u001b[0m\n",
      "\u001b[?25h  Installing build dependencies ... \u001b[?25ldone\n",
      "\u001b[?25h  Getting requirements to build wheel ... \u001b[?25ldone\n",
      "\u001b[?25h  Preparing metadata (pyproject.toml) ... \u001b[?25ldone\n",
      "\u001b[?25hCollecting array-api-compat (from anndata>=0.7.4->scanpy)\n",
      "  Downloading array_api_compat-1.4-py3-none-any.whl.metadata (13 kB)\n",
      "Requirement already satisfied: exceptiongroup in /home/codespace/.local/lib/python3.10/site-packages (from anndata>=0.7.4->scanpy) (1.2.0)\n",
      "Requirement already satisfied: contourpy>=1.0.1 in /home/codespace/.local/lib/python3.10/site-packages (from matplotlib>=3.4->scanpy) (1.2.0)\n",
      "Requirement already satisfied: cycler>=0.10 in /home/codespace/.local/lib/python3.10/site-packages (from matplotlib>=3.4->scanpy) (0.12.1)\n",
      "Requirement already satisfied: fonttools>=4.22.0 in /home/codespace/.local/lib/python3.10/site-packages (from matplotlib>=3.4->scanpy) (4.46.0)\n",
      "Requirement already satisfied: kiwisolver>=1.3.1 in /home/codespace/.local/lib/python3.10/site-packages (from matplotlib>=3.4->scanpy) (1.4.5)\n",
      "Requirement already satisfied: pillow>=8 in /home/codespace/.local/lib/python3.10/site-packages (from matplotlib>=3.4->scanpy) (10.1.0)\n",
      "Requirement already satisfied: pyparsing>=2.3.1 in /home/codespace/.local/lib/python3.10/site-packages (from matplotlib>=3.4->scanpy) (3.1.1)\n",
      "Requirement already satisfied: python-dateutil>=2.7 in /home/codespace/.local/lib/python3.10/site-packages (from matplotlib>=3.4->scanpy) (2.8.2)\n",
      "Collecting llvmlite<0.42,>=0.41.0dev0 (from numba>=0.41.0->scanpy)\n",
      "  Downloading llvmlite-0.41.1-cp310-cp310-manylinux_2_17_x86_64.manylinux2014_x86_64.whl.metadata (4.8 kB)\n",
      "Requirement already satisfied: pytz>=2020.1 in /home/codespace/.local/lib/python3.10/site-packages (from pandas!=2.1.2,>=1.1.1->scanpy) (2023.3.post1)\n",
      "Requirement already satisfied: tzdata>=2022.1 in /home/codespace/.local/lib/python3.10/site-packages (from pandas!=2.1.2,>=1.1.1->scanpy) (2023.3)\n",
      "Requirement already satisfied: threadpoolctl>=2.0.0 in /home/codespace/.local/lib/python3.10/site-packages (from scikit-learn>=0.24->scanpy) (3.2.0)\n",
      "Requirement already satisfied: six in /home/codespace/.local/lib/python3.10/site-packages (from patsy->scanpy) (1.16.0)\n",
      "Collecting pynndescent>=0.5 (from umap-learn>=0.3.10->scanpy)\n",
      "  Downloading pynndescent-0.5.11-py3-none-any.whl.metadata (6.8 kB)\n",
      "Collecting stdlib-list (from session-info->scanpy)\n",
      "  Downloading stdlib_list-0.10.0-py3-none-any.whl.metadata (3.3 kB)\n",
      "Downloading scanpy-1.9.6-py3-none-any.whl (2.0 MB)\n",
      "\u001b[2K   \u001b[90m━━━━━━━━━━━━━━━━━━━━━━━━━━━━━━━━━━━━━━━━\u001b[0m \u001b[32m2.0/2.0 MB\u001b[0m \u001b[31m35.9 MB/s\u001b[0m eta \u001b[36m0:00:00\u001b[0m:00:01\u001b[0m\n",
      "\u001b[?25hDownloading anndata-0.10.4-py3-none-any.whl (119 kB)\n",
      "\u001b[2K   \u001b[90m━━━━━━━━━━━━━━━━━━━━━━━━━━━━━━━━━━━━━━━━\u001b[0m \u001b[32m119.9/119.9 kB\u001b[0m \u001b[31m3.6 MB/s\u001b[0m eta \u001b[36m0:00:00\u001b[0m\n",
      "\u001b[?25hDownloading h5py-3.10.0-cp310-cp310-manylinux_2_17_x86_64.manylinux2014_x86_64.whl (4.8 MB)\n",
      "\u001b[2K   \u001b[90m━━━━━━━━━━━━━━━━━━━━━━━━━━━━━━━━━━━━━━━━\u001b[0m \u001b[32m4.8/4.8 MB\u001b[0m \u001b[31m55.6 MB/s\u001b[0m eta \u001b[36m0:00:00\u001b[0m:00:01\u001b[0m\n",
      "\u001b[?25hDownloading numba-0.58.1-cp310-cp310-manylinux2014_x86_64.manylinux_2_17_x86_64.whl (3.6 MB)\n",
      "\u001b[2K   \u001b[90m━━━━━━━━━━━━━━━━━━━━━━━━━━━━━━━━━━━━━━━━\u001b[0m \u001b[32m3.6/3.6 MB\u001b[0m \u001b[31m50.2 MB/s\u001b[0m eta \u001b[36m0:00:00\u001b[0m:00:01\u001b[0m\n",
      "\u001b[?25hDownloading seaborn-0.13.1-py3-none-any.whl (294 kB)\n",
      "\u001b[2K   \u001b[90m━━━━━━━━━━━━━━━━━━━━━━━━━━━━━━━━━━━━━━━━\u001b[0m \u001b[32m294.8/294.8 kB\u001b[0m \u001b[31m8.0 MB/s\u001b[0m eta \u001b[36m0:00:00\u001b[0mta \u001b[36m0:00:01\u001b[0m\n",
      "\u001b[?25hDownloading statsmodels-0.14.1-cp310-cp310-manylinux_2_17_x86_64.manylinux2014_x86_64.whl (10.8 MB)\n",
      "\u001b[2K   \u001b[90m━━━━━━━━━━━━━━━━━━━━━━━━━━━━━━━━━━━━━━━━\u001b[0m \u001b[32m10.8/10.8 MB\u001b[0m \u001b[31m65.1 MB/s\u001b[0m eta \u001b[36m0:00:00\u001b[0m:00:01\u001b[0m0:01\u001b[0m\n",
      "\u001b[?25hDownloading patsy-0.5.6-py2.py3-none-any.whl (233 kB)\n",
      "\u001b[2K   \u001b[90m━━━━━━━━━━━━━━━━━━━━━━━━━━━━━━━━━━━━━━━━\u001b[0m \u001b[32m233.9/233.9 kB\u001b[0m \u001b[31m7.0 MB/s\u001b[0m eta \u001b[36m0:00:00\u001b[0m\n",
      "\u001b[?25hDownloading natsort-8.4.0-py3-none-any.whl (38 kB)\n",
      "Downloading tqdm-4.66.1-py3-none-any.whl (78 kB)\n",
      "\u001b[2K   \u001b[90m━━━━━━━━━━━━━━━━━━━━━━━━━━━━━━━━━━━━━━━━\u001b[0m \u001b[32m78.3/78.3 kB\u001b[0m \u001b[31m2.3 MB/s\u001b[0m eta \u001b[36m0:00:00\u001b[0m\n",
      "\u001b[?25hDownloading llvmlite-0.41.1-cp310-cp310-manylinux_2_17_x86_64.manylinux2014_x86_64.whl (43.6 MB)\n",
      "\u001b[2K   \u001b[90m━━━━━━━━━━━━━━━━━━━━━━━━━━━━━━━━━━━━━━━━\u001b[0m \u001b[32m43.6/43.6 MB\u001b[0m \u001b[31m34.4 MB/s\u001b[0m eta \u001b[36m0:00:00\u001b[0m:00:01\u001b[0m00:01\u001b[0m\n",
      "\u001b[?25hDownloading pynndescent-0.5.11-py3-none-any.whl (55 kB)\n",
      "\u001b[2K   \u001b[90m━━━━━━━━━━━━━━━━━━━━━━━━━━━━━━━━━━━━━━━━\u001b[0m \u001b[32m55.8/55.8 kB\u001b[0m \u001b[31m1.4 MB/s\u001b[0m eta \u001b[36m0:00:00\u001b[0m\n",
      "\u001b[?25hDownloading array_api_compat-1.4-py3-none-any.whl (29 kB)\n",
      "Downloading stdlib_list-0.10.0-py3-none-any.whl (79 kB)\n",
      "\u001b[2K   \u001b[90m━━━━━━━━━━━━━━━━━━━━━━━━━━━━━━━━━━━━━━━━\u001b[0m \u001b[32m79.8/79.8 kB\u001b[0m \u001b[31m2.2 MB/s\u001b[0m eta \u001b[36m0:00:00\u001b[0m\n",
      "\u001b[?25hBuilding wheels for collected packages: umap-learn, session-info\n",
      "  Building wheel for umap-learn (pyproject.toml) ... \u001b[?25ldone\n",
      "\u001b[?25h  Created wheel for umap-learn: filename=umap_learn-0.5.5-py3-none-any.whl size=86832 sha256=aadab42aa55a5401b27a36614ac7d8cf788255fbf35a5c83892e2fa0ff67cd74\n",
      "  Stored in directory: /home/codespace/.cache/pip/wheels/3a/70/07/428d2b58660a1a3b431db59b806a10da736612ebbc66c1bcc5\n",
      "  Building wheel for session-info (pyproject.toml) ... \u001b[?25ldone\n",
      "\u001b[?25h  Created wheel for session-info: filename=session_info-1.0.0-py3-none-any.whl size=8023 sha256=99a0c8f8469875f36c7349ce53d69572b6641c58e2bf5e9cea4877d1d89c808f\n",
      "  Stored in directory: /home/codespace/.cache/pip/wheels/6a/aa/b9/eb5d4031476ec10802795b97ccf937b9bd998d68a9b268765a\n",
      "Successfully built umap-learn session-info\n",
      "Installing collected packages: tqdm, stdlib-list, patsy, natsort, llvmlite, h5py, array-api-compat, session-info, numba, statsmodels, seaborn, pynndescent, anndata, umap-learn, scanpy\n",
      "  Attempting uninstall: seaborn\n",
      "    Found existing installation: seaborn 0.13.0\n",
      "    Uninstalling seaborn-0.13.0:\n",
      "      Successfully uninstalled seaborn-0.13.0\n",
      "Successfully installed anndata-0.10.4 array-api-compat-1.4 h5py-3.10.0 llvmlite-0.41.1 natsort-8.4.0 numba-0.58.1 patsy-0.5.6 pynndescent-0.5.11 scanpy-1.9.6 seaborn-0.13.1 session-info-1.0.0 statsmodels-0.14.1 stdlib-list-0.10.0 tqdm-4.66.1 umap-learn-0.5.5\n",
      "\n",
      "\u001b[1m[\u001b[0m\u001b[34;49mnotice\u001b[0m\u001b[1;39;49m]\u001b[0m\u001b[39;49m A new release of pip is available: \u001b[0m\u001b[31;49m23.3.1\u001b[0m\u001b[39;49m -> \u001b[0m\u001b[32;49m23.3.2\u001b[0m\n",
      "\u001b[1m[\u001b[0m\u001b[34;49mnotice\u001b[0m\u001b[1;39;49m]\u001b[0m\u001b[39;49m To update, run: \u001b[0m\u001b[32;49mpython3 -m pip install --upgrade pip\u001b[0m\n",
      "Note: you may need to restart the kernel to use updated packages.\n"
     ]
    }
   ],
   "source": [
    "%pip install scanpy "
   ]
  },
  {
   "cell_type": "code",
   "execution_count": 14,
   "metadata": {},
   "outputs": [
    {
     "name": "stdout",
     "output_type": "stream",
     "text": [
      "Collecting MulticoreTSNE\n",
      "  Downloading MulticoreTSNE-0.1.tar.gz (20 kB)\n",
      "  Installing build dependencies ... \u001b[?25ldone\n",
      "\u001b[?25h  Getting requirements to build wheel ... \u001b[?25ldone\n",
      "\u001b[?25h  Preparing metadata (pyproject.toml) ... \u001b[?25ldone\n",
      "\u001b[?25hRequirement already satisfied: numpy in /home/codespace/.local/lib/python3.10/site-packages (from MulticoreTSNE) (1.26.2)\n",
      "Requirement already satisfied: cffi in /home/codespace/.local/lib/python3.10/site-packages (from MulticoreTSNE) (1.16.0)\n",
      "Requirement already satisfied: pycparser in /home/codespace/.local/lib/python3.10/site-packages (from cffi->MulticoreTSNE) (2.21)\n",
      "Building wheels for collected packages: MulticoreTSNE\n",
      "  Building wheel for MulticoreTSNE (pyproject.toml) ... \u001b[?25ldone\n",
      "\u001b[?25h  Created wheel for MulticoreTSNE: filename=MulticoreTSNE-0.1-cp310-cp310-linux_x86_64.whl size=64702 sha256=48d14556e13d8802380a5c4597a5ffea3d68a6e9b8a5ae4dc2fe845635656cb0\n",
      "  Stored in directory: /home/codespace/.cache/pip/wheels/59/15/9b/f46b1b5a5e423feb28159b8ff44570b2089e5a53d8eba968e8\n",
      "Successfully built MulticoreTSNE\n",
      "Installing collected packages: MulticoreTSNE\n",
      "Successfully installed MulticoreTSNE-0.1\n",
      "\n",
      "\u001b[1m[\u001b[0m\u001b[34;49mnotice\u001b[0m\u001b[1;39;49m]\u001b[0m\u001b[39;49m A new release of pip is available: \u001b[0m\u001b[31;49m23.3.1\u001b[0m\u001b[39;49m -> \u001b[0m\u001b[32;49m23.3.2\u001b[0m\n",
      "\u001b[1m[\u001b[0m\u001b[34;49mnotice\u001b[0m\u001b[1;39;49m]\u001b[0m\u001b[39;49m To update, run: \u001b[0m\u001b[32;49mpython3 -m pip install --upgrade pip\u001b[0m\n",
      "Note: you may need to restart the kernel to use updated packages.\n"
     ]
    }
   ],
   "source": [
    "%pip install MulticoreTSNE"
   ]
  },
  {
   "cell_type": "code",
   "execution_count": 1,
   "metadata": {},
   "outputs": [],
   "source": [
    "import pandas as pd\n",
    "\n",
    "scseq = pd.read_csv('./data/scRNA_seq_for_hw3_hw5.tsv', delimiter='\\t', index_col=0)"
   ]
  },
  {
   "cell_type": "code",
   "execution_count": 2,
   "metadata": {},
   "outputs": [
    {
     "data": {
      "text/html": [
       "<div>\n",
       "<style scoped>\n",
       "    .dataframe tbody tr th:only-of-type {\n",
       "        vertical-align: middle;\n",
       "    }\n",
       "\n",
       "    .dataframe tbody tr th {\n",
       "        vertical-align: top;\n",
       "    }\n",
       "\n",
       "    .dataframe thead th {\n",
       "        text-align: right;\n",
       "    }\n",
       "</style>\n",
       "<table border=\"1\" class=\"dataframe\">\n",
       "  <thead>\n",
       "    <tr style=\"text-align: right;\">\n",
       "      <th></th>\n",
       "      <th>AAACAGCCAAGGAATC-1</th>\n",
       "      <th>AAACAGCCAATCCCTT-1</th>\n",
       "      <th>AAACAGCCAATGCGCT-1</th>\n",
       "      <th>AAACAGCCACCAACCG-1</th>\n",
       "      <th>AAACAGCCAGGATAAC-1</th>\n",
       "      <th>AAACAGCCAGTAGGTG-1</th>\n",
       "      <th>AAACAGCCAGTTTACG-1</th>\n",
       "      <th>AAACAGCCATCCAGGT-1</th>\n",
       "      <th>AAACATGCAAGGTCCT-1</th>\n",
       "      <th>AAACATGCACCGGCTA-1</th>\n",
       "      <th>...</th>\n",
       "      <th>TTTGTGTTCGGGACCT-1</th>\n",
       "      <th>TTTGTGTTCGTCAAGT-1</th>\n",
       "      <th>TTTGTGTTCTCCATAT-1</th>\n",
       "      <th>TTTGTTGGTCAGGAAG-1</th>\n",
       "      <th>TTTGTTGGTCCACAAA-1</th>\n",
       "      <th>TTTGTTGGTGACATGC-1</th>\n",
       "      <th>TTTGTTGGTGTTAAAC-1</th>\n",
       "      <th>TTTGTTGGTTAGGATT-1</th>\n",
       "      <th>TTTGTTGGTTGGTTAG-1</th>\n",
       "      <th>TTTGTTGGTTTGCAGA-1</th>\n",
       "    </tr>\n",
       "  </thead>\n",
       "  <tbody>\n",
       "    <tr>\n",
       "      <th>HES4</th>\n",
       "      <td>0.0</td>\n",
       "      <td>0.0</td>\n",
       "      <td>0.0</td>\n",
       "      <td>0.0</td>\n",
       "      <td>0.0</td>\n",
       "      <td>0.0</td>\n",
       "      <td>0.0</td>\n",
       "      <td>1.386294</td>\n",
       "      <td>0.0</td>\n",
       "      <td>0.693147</td>\n",
       "      <td>...</td>\n",
       "      <td>0.0</td>\n",
       "      <td>0.0</td>\n",
       "      <td>0.0</td>\n",
       "      <td>0.0</td>\n",
       "      <td>0.0</td>\n",
       "      <td>0.0</td>\n",
       "      <td>0.0</td>\n",
       "      <td>0.0</td>\n",
       "      <td>0.0</td>\n",
       "      <td>0.0</td>\n",
       "    </tr>\n",
       "    <tr>\n",
       "      <th>LINC01342</th>\n",
       "      <td>0.0</td>\n",
       "      <td>0.0</td>\n",
       "      <td>0.0</td>\n",
       "      <td>0.0</td>\n",
       "      <td>0.0</td>\n",
       "      <td>0.0</td>\n",
       "      <td>0.0</td>\n",
       "      <td>0.000000</td>\n",
       "      <td>0.0</td>\n",
       "      <td>0.000000</td>\n",
       "      <td>...</td>\n",
       "      <td>0.0</td>\n",
       "      <td>0.0</td>\n",
       "      <td>0.0</td>\n",
       "      <td>0.0</td>\n",
       "      <td>0.0</td>\n",
       "      <td>0.0</td>\n",
       "      <td>0.0</td>\n",
       "      <td>0.0</td>\n",
       "      <td>0.0</td>\n",
       "      <td>0.0</td>\n",
       "    </tr>\n",
       "    <tr>\n",
       "      <th>TNFRSF18</th>\n",
       "      <td>0.0</td>\n",
       "      <td>0.0</td>\n",
       "      <td>0.0</td>\n",
       "      <td>0.0</td>\n",
       "      <td>0.0</td>\n",
       "      <td>0.0</td>\n",
       "      <td>0.0</td>\n",
       "      <td>0.000000</td>\n",
       "      <td>0.0</td>\n",
       "      <td>0.000000</td>\n",
       "      <td>...</td>\n",
       "      <td>0.0</td>\n",
       "      <td>0.0</td>\n",
       "      <td>0.0</td>\n",
       "      <td>0.0</td>\n",
       "      <td>0.0</td>\n",
       "      <td>0.0</td>\n",
       "      <td>0.0</td>\n",
       "      <td>0.0</td>\n",
       "      <td>0.0</td>\n",
       "      <td>0.0</td>\n",
       "    </tr>\n",
       "    <tr>\n",
       "      <th>TNFRSF4</th>\n",
       "      <td>0.0</td>\n",
       "      <td>0.0</td>\n",
       "      <td>0.0</td>\n",
       "      <td>0.0</td>\n",
       "      <td>0.0</td>\n",
       "      <td>0.0</td>\n",
       "      <td>0.0</td>\n",
       "      <td>0.000000</td>\n",
       "      <td>0.0</td>\n",
       "      <td>0.000000</td>\n",
       "      <td>...</td>\n",
       "      <td>0.0</td>\n",
       "      <td>0.0</td>\n",
       "      <td>0.0</td>\n",
       "      <td>0.0</td>\n",
       "      <td>0.0</td>\n",
       "      <td>0.0</td>\n",
       "      <td>0.0</td>\n",
       "      <td>0.0</td>\n",
       "      <td>0.0</td>\n",
       "      <td>0.0</td>\n",
       "    </tr>\n",
       "    <tr>\n",
       "      <th>AJAP1</th>\n",
       "      <td>0.0</td>\n",
       "      <td>0.0</td>\n",
       "      <td>0.0</td>\n",
       "      <td>0.0</td>\n",
       "      <td>0.0</td>\n",
       "      <td>0.0</td>\n",
       "      <td>0.0</td>\n",
       "      <td>0.000000</td>\n",
       "      <td>0.0</td>\n",
       "      <td>0.000000</td>\n",
       "      <td>...</td>\n",
       "      <td>0.0</td>\n",
       "      <td>0.0</td>\n",
       "      <td>0.0</td>\n",
       "      <td>0.0</td>\n",
       "      <td>0.0</td>\n",
       "      <td>0.0</td>\n",
       "      <td>0.0</td>\n",
       "      <td>0.0</td>\n",
       "      <td>0.0</td>\n",
       "      <td>0.0</td>\n",
       "    </tr>\n",
       "  </tbody>\n",
       "</table>\n",
       "<p>5 rows × 10412 columns</p>\n",
       "</div>"
      ],
      "text/plain": [
       "           AAACAGCCAAGGAATC-1  AAACAGCCAATCCCTT-1  AAACAGCCAATGCGCT-1  \\\n",
       "HES4                      0.0                 0.0                 0.0   \n",
       "LINC01342                 0.0                 0.0                 0.0   \n",
       "TNFRSF18                  0.0                 0.0                 0.0   \n",
       "TNFRSF4                   0.0                 0.0                 0.0   \n",
       "AJAP1                     0.0                 0.0                 0.0   \n",
       "\n",
       "           AAACAGCCACCAACCG-1  AAACAGCCAGGATAAC-1  AAACAGCCAGTAGGTG-1  \\\n",
       "HES4                      0.0                 0.0                 0.0   \n",
       "LINC01342                 0.0                 0.0                 0.0   \n",
       "TNFRSF18                  0.0                 0.0                 0.0   \n",
       "TNFRSF4                   0.0                 0.0                 0.0   \n",
       "AJAP1                     0.0                 0.0                 0.0   \n",
       "\n",
       "           AAACAGCCAGTTTACG-1  AAACAGCCATCCAGGT-1  AAACATGCAAGGTCCT-1  \\\n",
       "HES4                      0.0            1.386294                 0.0   \n",
       "LINC01342                 0.0            0.000000                 0.0   \n",
       "TNFRSF18                  0.0            0.000000                 0.0   \n",
       "TNFRSF4                   0.0            0.000000                 0.0   \n",
       "AJAP1                     0.0            0.000000                 0.0   \n",
       "\n",
       "           AAACATGCACCGGCTA-1  ...  TTTGTGTTCGGGACCT-1  TTTGTGTTCGTCAAGT-1  \\\n",
       "HES4                 0.693147  ...                 0.0                 0.0   \n",
       "LINC01342            0.000000  ...                 0.0                 0.0   \n",
       "TNFRSF18             0.000000  ...                 0.0                 0.0   \n",
       "TNFRSF4              0.000000  ...                 0.0                 0.0   \n",
       "AJAP1                0.000000  ...                 0.0                 0.0   \n",
       "\n",
       "           TTTGTGTTCTCCATAT-1  TTTGTTGGTCAGGAAG-1  TTTGTTGGTCCACAAA-1  \\\n",
       "HES4                      0.0                 0.0                 0.0   \n",
       "LINC01342                 0.0                 0.0                 0.0   \n",
       "TNFRSF18                  0.0                 0.0                 0.0   \n",
       "TNFRSF4                   0.0                 0.0                 0.0   \n",
       "AJAP1                     0.0                 0.0                 0.0   \n",
       "\n",
       "           TTTGTTGGTGACATGC-1  TTTGTTGGTGTTAAAC-1  TTTGTTGGTTAGGATT-1  \\\n",
       "HES4                      0.0                 0.0                 0.0   \n",
       "LINC01342                 0.0                 0.0                 0.0   \n",
       "TNFRSF18                  0.0                 0.0                 0.0   \n",
       "TNFRSF4                   0.0                 0.0                 0.0   \n",
       "AJAP1                     0.0                 0.0                 0.0   \n",
       "\n",
       "           TTTGTTGGTTGGTTAG-1  TTTGTTGGTTTGCAGA-1  \n",
       "HES4                      0.0                 0.0  \n",
       "LINC01342                 0.0                 0.0  \n",
       "TNFRSF18                  0.0                 0.0  \n",
       "TNFRSF4                   0.0                 0.0  \n",
       "AJAP1                     0.0                 0.0  \n",
       "\n",
       "[5 rows x 10412 columns]"
      ]
     },
     "execution_count": 2,
     "metadata": {},
     "output_type": "execute_result"
    }
   ],
   "source": [
    "scseq.head()"
   ]
  },
  {
   "cell_type": "code",
   "execution_count": 3,
   "metadata": {},
   "outputs": [
    {
     "data": {
      "text/plain": [
       "(3000, 10412)"
      ]
     },
     "execution_count": 3,
     "metadata": {},
     "output_type": "execute_result"
    }
   ],
   "source": [
    "scseq.shape"
   ]
  },
  {
   "cell_type": "markdown",
   "metadata": {},
   "source": [
    "- each column is obtained via RNA sequencing of a single cell, and can be perceived as an id for each cell.\n",
    "- each row is the names of the genes that are expressed in the cell. the corresponding value is the level to which the gene is expressed in the cell.\n",
    "- there are 5 rows and 10412 columns, and therefore this diagram studies the level of expression of these 5 genes in these 10412 cells."
   ]
  },
  {
   "cell_type": "code",
   "execution_count": 4,
   "metadata": {},
   "outputs": [],
   "source": [
    "labels = pd.read_csv('./data/label_for_hw3_hw5.tsv', delimiter='\\t', index_col=0)"
   ]
  },
  {
   "cell_type": "code",
   "execution_count": 5,
   "metadata": {},
   "outputs": [
    {
     "name": "stdout",
     "output_type": "stream",
     "text": [
      "                        label\n",
      "cells                        \n",
      "AAACAGCCAAGGAATC-1  CD4 Naive\n",
      "AAACAGCCAATCCCTT-1    CD4 TEM\n",
      "AAACAGCCAATGCGCT-1  CD4 Naive\n",
      "AAACAGCCACCAACCG-1  CD8 Naive\n",
      "AAACAGCCAGGATAAC-1  CD4 Naive\n",
      "(10412, 1)\n"
     ]
    }
   ],
   "source": [
    "print(labels.head())\n",
    "print(labels.shape)"
   ]
  },
  {
   "cell_type": "markdown",
   "metadata": {},
   "source": [
    "here the label is the category or state that the cell is in. this is derived from clustering methods.\n",
    "\n",
    "- for example, the CD4 Naive, CD4 TEM and CD8 Naive are all cell categories."
   ]
  },
  {
   "cell_type": "code",
   "execution_count": 6,
   "metadata": {},
   "outputs": [
    {
     "name": "stderr",
     "output_type": "stream",
     "text": [
      "/usr/local/python/3.10.13/lib/python3.10/site-packages/tqdm/auto.py:21: TqdmWarning: IProgress not found. Please update jupyter and ipywidgets. See https://ipywidgets.readthedocs.io/en/stable/user_install.html\n",
      "  from .autonotebook import tqdm as notebook_tqdm\n"
     ]
    }
   ],
   "source": [
    "import numpy as np\n",
    "import scanpy as sc\n",
    "from sklearn.decomposition import PCA\n",
    "import matplotlib.pyplot as plt\n",
    "from sklearn.manifold import TSNE\n",
    "from MulticoreTSNE import MulticoreTSNE as mTSNE\n",
    "import umap\n",
    "import seaborn as sns"
   ]
  },
  {
   "cell_type": "code",
   "execution_count": 7,
   "metadata": {},
   "outputs": [
    {
     "name": "stdout",
     "output_type": "stream",
     "text": [
      "(10412, 3000)\n"
     ]
    }
   ],
   "source": [
    "genes =  scseq.T\n",
    "print(genes.shape)"
   ]
  },
  {
   "cell_type": "code",
   "execution_count": 9,
   "metadata": {},
   "outputs": [],
   "source": [
    "pca_result = PCA(n_components=2).fit_transform(genes.values)\n",
    "genes['PCA1'] = pca_result[:,0]\n",
    "genes['PCA2'] = pca_result[:,1]"
   ]
  },
  {
   "cell_type": "code",
   "execution_count": 10,
   "metadata": {},
   "outputs": [
    {
     "data": {
      "text/plain": [
       "(10412, 3002)"
      ]
     },
     "execution_count": 10,
     "metadata": {},
     "output_type": "execute_result"
    }
   ],
   "source": [
    "genes.shape"
   ]
  },
  {
   "cell_type": "code",
   "execution_count": 11,
   "metadata": {},
   "outputs": [],
   "source": [
    "# t-SNE\n",
    "tsne = mTSNE(n_components=2, n_jobs=-1)  # 使用所有可用的CPU核心\n",
    "tsne_result = tsne.fit_transform(genes.values)\n",
    "genes['TSNE1'] = tsne_result[:,0]\n",
    "genes['TSNE2'] = tsne_result[:,1]"
   ]
  },
  {
   "cell_type": "code",
   "execution_count": 12,
   "metadata": {},
   "outputs": [
    {
     "name": "stdout",
     "output_type": "stream",
     "text": [
      "(10412, 3004)\n"
     ]
    }
   ],
   "source": [
    "print(genes.shape)"
   ]
  },
  {
   "cell_type": "code",
   "execution_count": 13,
   "metadata": {},
   "outputs": [
    {
     "name": "stderr",
     "output_type": "stream",
     "text": [
      "/home/codespace/.local/lib/python3.10/site-packages/sklearn/manifold/_spectral_embedding.py:273: UserWarning: Graph is not fully connected, spectral embedding may not work as expected.\n",
      "  warnings.warn(\n"
     ]
    }
   ],
   "source": [
    "# UMAP\n",
    "umap_result = umap.UMAP().fit_transform(genes.values)\n",
    "genes['UMAP1'] = umap_result[:,0]\n",
    "genes['UMAP2'] = umap_result[:,1]"
   ]
  },
  {
   "cell_type": "code",
   "execution_count": 14,
   "metadata": {},
   "outputs": [
    {
     "data": {
      "text/plain": [
       "10412"
      ]
     },
     "execution_count": 14,
     "metadata": {},
     "output_type": "execute_result"
    }
   ],
   "source": [
    "len(genes)"
   ]
  },
  {
   "cell_type": "code",
   "execution_count": 15,
   "metadata": {},
   "outputs": [],
   "source": [
    "genes['label'] = labels['label'].values.ravel()"
   ]
  },
  {
   "cell_type": "code",
   "execution_count": 27,
   "metadata": {},
   "outputs": [],
   "source": [
    "# 可视化\n",
    "fig, axs = plt.subplots(3, figsize=(10, 30))\n",
    "\n",
    "# PCA\n",
    "sns.scatterplot(x='PCA1', y='PCA2', hue='label', data=genes, ax=axs[0], palette='viridis')\n",
    "axs[0].set_title('PCA')\n",
    "\n",
    "# t-SNE\n",
    "sns.scatterplot(x='TSNE1', y='TSNE2', hue='label', data=genes, ax=axs[1], palette='viridis')\n",
    "axs[1].set_title('t-SNE')\n",
    "\n",
    "# UMAP\n",
    "sns.scatterplot(x='UMAP1', y='UMAP2', hue='label', data=genes, ax=axs[2], palette='viridis')\n",
    "axs[2].set_title('UMAP')\n",
    "\n",
    "plt.savefig('./hw3/figs/vis_hw3_without_scanpy.png')\n",
    "plt.show()"
   ]
  }
 ],
 "metadata": {
  "kernelspec": {
   "display_name": "Python 3 (ipykernel)",
   "language": "python",
   "name": "python3"
  },
  "language_info": {
   "codemirror_mode": {
    "name": "ipython",
    "version": 3
   },
   "file_extension": ".py",
   "mimetype": "text/x-python",
   "name": "python",
   "nbconvert_exporter": "python",
   "pygments_lexer": "ipython3",
   "version": "3.10.13"
  }
 },
 "nbformat": 4,
 "nbformat_minor": 2
}
